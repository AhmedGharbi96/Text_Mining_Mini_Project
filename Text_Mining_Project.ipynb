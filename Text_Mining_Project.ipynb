{
  "nbformat": 4,
  "nbformat_minor": 0,
  "metadata": {
    "colab": {
      "name": "Text_Mining_Project.ipynb",
      "provenance": [],
      "collapsed_sections": []
    },
    "kernelspec": {
      "name": "python3",
      "display_name": "Python 3"
    }
  },
  "cells": [
    {
      "cell_type": "markdown",
      "metadata": {
        "id": "toSRhqTCpkh1",
        "colab_type": "text"
      },
      "source": [
        "Let's start with the sentiment analysis\n"
      ]
    },
    {
      "cell_type": "code",
      "metadata": {
        "id": "bycyx5FHrHeg",
        "colab_type": "code",
        "outputId": "e8552f38-5dca-4b57-9af8-06654a2997e2",
        "colab": {
          "base_uri": "https://localhost:8080/",
          "height": 130
        }
      },
      "source": [
        "from google.colab import drive\n",
        "drive.mount('/content/gdrive')"
      ],
      "execution_count": 0,
      "outputs": [
        {
          "output_type": "stream",
          "text": [
            "Go to this URL in a browser: https://accounts.google.com/o/oauth2/auth?client_id=947318989803-6bn6qk8qdgf4n4g3pfee6491hc0brc4i.apps.googleusercontent.com&redirect_uri=urn%3aietf%3awg%3aoauth%3a2.0%3aoob&response_type=code&scope=email%20https%3a%2f%2fwww.googleapis.com%2fauth%2fdocs.test%20https%3a%2f%2fwww.googleapis.com%2fauth%2fdrive%20https%3a%2f%2fwww.googleapis.com%2fauth%2fdrive.photos.readonly%20https%3a%2f%2fwww.googleapis.com%2fauth%2fpeopleapi.readonly\n",
            "\n",
            "Enter your authorization code:\n",
            "··········\n",
            "Mounted at /content/gdrive\n"
          ],
          "name": "stdout"
        }
      ]
    },
    {
      "cell_type": "code",
      "metadata": {
        "id": "X7ISKnKcrLaG",
        "colab_type": "code",
        "colab": {}
      },
      "source": [
        "import zipfile\n",
        "with zipfile.ZipFile('/content/gdrive/My Drive/Text_mining/yelp.csv.zip',\"r\") as zip_ref:\n",
        "    zip_ref.extractall('/content/gdrive/My Drive/Text_mining/twitter_sentiment')"
      ],
      "execution_count": 0,
      "outputs": []
    },
    {
      "cell_type": "code",
      "metadata": {
        "id": "Ze34jeM3rnqr",
        "colab_type": "code",
        "colab": {}
      },
      "source": [
        "import pandas as pd\n",
        "path='/content/gdrive/My Drive/Text_mining/twitter_sentiment'  \n",
        "train_path=path+\"/yelp.csv\"\n",
        "train=pd.read_csv(train_path,encoding='latin-1')"
      ],
      "execution_count": 0,
      "outputs": []
    },
    {
      "cell_type": "code",
      "metadata": {
        "id": "TQNCrOPAsQ_u",
        "colab_type": "code",
        "outputId": "21c12e02-c797-49e1-9f36-7780402317a1",
        "colab": {
          "base_uri": "https://localhost:8080/",
          "height": 1000
        }
      },
      "source": [
        "train.head(50)"
      ],
      "execution_count": 0,
      "outputs": [
        {
          "output_type": "execute_result",
          "data": {
            "text/html": [
              "<div>\n",
              "<style scoped>\n",
              "    .dataframe tbody tr th:only-of-type {\n",
              "        vertical-align: middle;\n",
              "    }\n",
              "\n",
              "    .dataframe tbody tr th {\n",
              "        vertical-align: top;\n",
              "    }\n",
              "\n",
              "    .dataframe thead th {\n",
              "        text-align: right;\n",
              "    }\n",
              "</style>\n",
              "<table border=\"1\" class=\"dataframe\">\n",
              "  <thead>\n",
              "    <tr style=\"text-align: right;\">\n",
              "      <th></th>\n",
              "      <th>business_id</th>\n",
              "      <th>date</th>\n",
              "      <th>review_id</th>\n",
              "      <th>stars</th>\n",
              "      <th>text</th>\n",
              "      <th>type</th>\n",
              "      <th>user_id</th>\n",
              "      <th>cool</th>\n",
              "      <th>useful</th>\n",
              "      <th>funny</th>\n",
              "    </tr>\n",
              "  </thead>\n",
              "  <tbody>\n",
              "    <tr>\n",
              "      <th>0</th>\n",
              "      <td>9yKzy9PApeiPPOUJEtnvkg</td>\n",
              "      <td>2011-01-26</td>\n",
              "      <td>fWKvX83p0-ka4JS3dc6E5A</td>\n",
              "      <td>5</td>\n",
              "      <td>My wife took me here on my birthday for breakf...</td>\n",
              "      <td>review</td>\n",
              "      <td>rLtl8ZkDX5vH5nAx9C3q5Q</td>\n",
              "      <td>2</td>\n",
              "      <td>5</td>\n",
              "      <td>0</td>\n",
              "    </tr>\n",
              "    <tr>\n",
              "      <th>1</th>\n",
              "      <td>ZRJwVLyzEJq1VAihDhYiow</td>\n",
              "      <td>2011-07-27</td>\n",
              "      <td>IjZ33sJrzXqU-0X6U8NwyA</td>\n",
              "      <td>5</td>\n",
              "      <td>I have no idea why some people give bad review...</td>\n",
              "      <td>review</td>\n",
              "      <td>0a2KyEL0d3Yb1V6aivbIuQ</td>\n",
              "      <td>0</td>\n",
              "      <td>0</td>\n",
              "      <td>0</td>\n",
              "    </tr>\n",
              "    <tr>\n",
              "      <th>2</th>\n",
              "      <td>6oRAC4uyJCsJl1X0WZpVSA</td>\n",
              "      <td>2012-06-14</td>\n",
              "      <td>IESLBzqUCLdSzSqm0eCSxQ</td>\n",
              "      <td>4</td>\n",
              "      <td>love the gyro plate. Rice is so good and I als...</td>\n",
              "      <td>review</td>\n",
              "      <td>0hT2KtfLiobPvh6cDC8JQg</td>\n",
              "      <td>0</td>\n",
              "      <td>1</td>\n",
              "      <td>0</td>\n",
              "    </tr>\n",
              "    <tr>\n",
              "      <th>3</th>\n",
              "      <td>_1QQZuf4zZOyFCvXc0o6Vg</td>\n",
              "      <td>2010-05-27</td>\n",
              "      <td>G-WvGaISbqqaMHlNnByodA</td>\n",
              "      <td>5</td>\n",
              "      <td>Rosie, Dakota, and I LOVE Chaparral Dog Park!!...</td>\n",
              "      <td>review</td>\n",
              "      <td>uZetl9T0NcROGOyFfughhg</td>\n",
              "      <td>1</td>\n",
              "      <td>2</td>\n",
              "      <td>0</td>\n",
              "    </tr>\n",
              "    <tr>\n",
              "      <th>4</th>\n",
              "      <td>6ozycU1RpktNG2-1BroVtw</td>\n",
              "      <td>2012-01-05</td>\n",
              "      <td>1uJFq2r5QfJG_6ExMRCaGw</td>\n",
              "      <td>5</td>\n",
              "      <td>General Manager Scott Petello is a good egg!!!...</td>\n",
              "      <td>review</td>\n",
              "      <td>vYmM4KTsC8ZfQBg-j5MWkw</td>\n",
              "      <td>0</td>\n",
              "      <td>0</td>\n",
              "      <td>0</td>\n",
              "    </tr>\n",
              "    <tr>\n",
              "      <th>5</th>\n",
              "      <td>-yxfBYGB6SEqszmxJxd97A</td>\n",
              "      <td>2007-12-13</td>\n",
              "      <td>m2CKSsepBCoRYWxiRUsxAg</td>\n",
              "      <td>4</td>\n",
              "      <td>Quiessence is, simply put, beautiful.  Full wi...</td>\n",
              "      <td>review</td>\n",
              "      <td>sqYN3lNgvPbPCTRsMFu27g</td>\n",
              "      <td>4</td>\n",
              "      <td>3</td>\n",
              "      <td>1</td>\n",
              "    </tr>\n",
              "    <tr>\n",
              "      <th>6</th>\n",
              "      <td>zp713qNhx8d9KCJJnrw1xA</td>\n",
              "      <td>2010-02-12</td>\n",
              "      <td>riFQ3vxNpP4rWLk_CSri2A</td>\n",
              "      <td>5</td>\n",
              "      <td>Drop what you're doing and drive here. After I...</td>\n",
              "      <td>review</td>\n",
              "      <td>wFweIWhv2fREZV_dYkz_1g</td>\n",
              "      <td>7</td>\n",
              "      <td>7</td>\n",
              "      <td>4</td>\n",
              "    </tr>\n",
              "    <tr>\n",
              "      <th>7</th>\n",
              "      <td>hW0Ne_HTHEAgGF1rAdmR-g</td>\n",
              "      <td>2012-07-12</td>\n",
              "      <td>JL7GXJ9u4YMx7Rzs05NfiQ</td>\n",
              "      <td>4</td>\n",
              "      <td>Luckily, I didn't have to travel far to make m...</td>\n",
              "      <td>review</td>\n",
              "      <td>1ieuYcKS7zeAv_U15AB13A</td>\n",
              "      <td>0</td>\n",
              "      <td>1</td>\n",
              "      <td>0</td>\n",
              "    </tr>\n",
              "    <tr>\n",
              "      <th>8</th>\n",
              "      <td>wNUea3IXZWD63bbOQaOH-g</td>\n",
              "      <td>2012-08-17</td>\n",
              "      <td>XtnfnYmnJYi71yIuGsXIUA</td>\n",
              "      <td>4</td>\n",
              "      <td>Definitely come for Happy hour! Prices are ama...</td>\n",
              "      <td>review</td>\n",
              "      <td>Vh_DlizgGhSqQh4qfZ2h6A</td>\n",
              "      <td>0</td>\n",
              "      <td>0</td>\n",
              "      <td>0</td>\n",
              "    </tr>\n",
              "    <tr>\n",
              "      <th>9</th>\n",
              "      <td>nMHhuYan8e3cONo3PornJA</td>\n",
              "      <td>2010-08-11</td>\n",
              "      <td>jJAIXA46pU1swYyRCdfXtQ</td>\n",
              "      <td>5</td>\n",
              "      <td>Nobuo shows his unique talents with everything...</td>\n",
              "      <td>review</td>\n",
              "      <td>sUNkXg8-KFtCMQDV6zRzQg</td>\n",
              "      <td>0</td>\n",
              "      <td>1</td>\n",
              "      <td>0</td>\n",
              "    </tr>\n",
              "    <tr>\n",
              "      <th>10</th>\n",
              "      <td>AsSCv0q_BWqIe3mX2JqsOQ</td>\n",
              "      <td>2010-06-16</td>\n",
              "      <td>E11jzpKz9Kw5K7fuARWfRw</td>\n",
              "      <td>5</td>\n",
              "      <td>The oldish man who owns the store is as sweet ...</td>\n",
              "      <td>review</td>\n",
              "      <td>-OMlS6yWkYjVldNhC31wYg</td>\n",
              "      <td>1</td>\n",
              "      <td>3</td>\n",
              "      <td>1</td>\n",
              "    </tr>\n",
              "    <tr>\n",
              "      <th>11</th>\n",
              "      <td>e9nN4XxjdHj4qtKCOPq_vg</td>\n",
              "      <td>2011-10-21</td>\n",
              "      <td>3rPt0LxF7rgmEUrznoH22w</td>\n",
              "      <td>5</td>\n",
              "      <td>Wonderful Vietnamese sandwich shoppe. Their ba...</td>\n",
              "      <td>review</td>\n",
              "      <td>C1rHp3dmepNea7XiouwB6Q</td>\n",
              "      <td>1</td>\n",
              "      <td>1</td>\n",
              "      <td>0</td>\n",
              "    </tr>\n",
              "    <tr>\n",
              "      <th>12</th>\n",
              "      <td>h53YuCiIDfEFSJCQpk8v1g</td>\n",
              "      <td>2010-01-11</td>\n",
              "      <td>cGnKNX3I9rthE0-TH24-qA</td>\n",
              "      <td>5</td>\n",
              "      <td>They have a limited time thing going on right ...</td>\n",
              "      <td>review</td>\n",
              "      <td>UPtysDF6cUDUxq2KY-6Dcg</td>\n",
              "      <td>1</td>\n",
              "      <td>2</td>\n",
              "      <td>0</td>\n",
              "    </tr>\n",
              "    <tr>\n",
              "      <th>13</th>\n",
              "      <td>WGNIYMeXPyoWav1APUq7jA</td>\n",
              "      <td>2011-12-23</td>\n",
              "      <td>FvEEw1_OsrYdvwLV5Hrliw</td>\n",
              "      <td>4</td>\n",
              "      <td>Good tattoo shop. Clean space, multiple artist...</td>\n",
              "      <td>review</td>\n",
              "      <td>Xm8HXE1JHqscXe5BKf0GFQ</td>\n",
              "      <td>1</td>\n",
              "      <td>2</td>\n",
              "      <td>0</td>\n",
              "    </tr>\n",
              "    <tr>\n",
              "      <th>14</th>\n",
              "      <td>yc5AH9H71xJidA_J2mChLA</td>\n",
              "      <td>2010-05-20</td>\n",
              "      <td>pfUwBKYYmUXeiwrhDluQcw</td>\n",
              "      <td>4</td>\n",
              "      <td>I'm 2 weeks new to Phoenix. I looked up Irish ...</td>\n",
              "      <td>review</td>\n",
              "      <td>JOG-4G4e8ae3lx_szHtR8g</td>\n",
              "      <td>1</td>\n",
              "      <td>1</td>\n",
              "      <td>0</td>\n",
              "    </tr>\n",
              "    <tr>\n",
              "      <th>15</th>\n",
              "      <td>Vb9FPCEL6Ly24PNxLBaAFw</td>\n",
              "      <td>2011-03-20</td>\n",
              "      <td>HvqmdqWcerVWO3Gs6zbrOw</td>\n",
              "      <td>2</td>\n",
              "      <td>Was it worth the 21$ for a salad and small piz...</td>\n",
              "      <td>review</td>\n",
              "      <td>ylWOj2y7TV2e3yYeWhu2QA</td>\n",
              "      <td>0</td>\n",
              "      <td>2</td>\n",
              "      <td>0</td>\n",
              "    </tr>\n",
              "    <tr>\n",
              "      <th>16</th>\n",
              "      <td>supigcPNO9IKo6olaTNV-g</td>\n",
              "      <td>2008-10-12</td>\n",
              "      <td>HXP_0Ul-FCmA4f-k9CqvaQ</td>\n",
              "      <td>3</td>\n",
              "      <td>We went here on a Saturday afternoon and this ...</td>\n",
              "      <td>review</td>\n",
              "      <td>SBbftLzfYYKItOMFwOTIJg</td>\n",
              "      <td>3</td>\n",
              "      <td>4</td>\n",
              "      <td>2</td>\n",
              "    </tr>\n",
              "    <tr>\n",
              "      <th>17</th>\n",
              "      <td>O510Re68mOy9dU490JTKCg</td>\n",
              "      <td>2010-05-03</td>\n",
              "      <td>j4SIzrIy0WrmW4yr4--Khg</td>\n",
              "      <td>5</td>\n",
              "      <td>okay this is the best place EVER! i grew up sh...</td>\n",
              "      <td>review</td>\n",
              "      <td>u1KWcbPMvXFEEYkZZ0Yktg</td>\n",
              "      <td>0</td>\n",
              "      <td>0</td>\n",
              "      <td>0</td>\n",
              "    </tr>\n",
              "    <tr>\n",
              "      <th>18</th>\n",
              "      <td>b5cEoKR8iQliq-yT2_O0LQ</td>\n",
              "      <td>2009-03-06</td>\n",
              "      <td>v0cTd3PNpYCkTyGKSpOfGA</td>\n",
              "      <td>3</td>\n",
              "      <td>I met a friend for lunch yesterday. \\n\\nLoved ...</td>\n",
              "      <td>review</td>\n",
              "      <td>UsULgP4bKA8RMzs8dQzcsA</td>\n",
              "      <td>5</td>\n",
              "      <td>6</td>\n",
              "      <td>4</td>\n",
              "    </tr>\n",
              "    <tr>\n",
              "      <th>19</th>\n",
              "      <td>4JzzbSbK9wmlOBJZWYfuCg</td>\n",
              "      <td>2011-11-17</td>\n",
              "      <td>a0lCu-j2Sk_kHQsZi_eNgw</td>\n",
              "      <td>4</td>\n",
              "      <td>They've gotten better and better for me in the...</td>\n",
              "      <td>review</td>\n",
              "      <td>nDBly08j5URmrHQ2JCbyiw</td>\n",
              "      <td>1</td>\n",
              "      <td>1</td>\n",
              "      <td>1</td>\n",
              "    </tr>\n",
              "    <tr>\n",
              "      <th>20</th>\n",
              "      <td>8FNO4D3eozpIjj0k3q5Zbg</td>\n",
              "      <td>2008-10-08</td>\n",
              "      <td>MuqugTuR5DdIPcZ2IVP3aQ</td>\n",
              "      <td>3</td>\n",
              "      <td>DVAP....\\n\\nYou have to go at least once in yo...</td>\n",
              "      <td>review</td>\n",
              "      <td>C6IOtaaYdLIT5fWd7ZYIuA</td>\n",
              "      <td>2</td>\n",
              "      <td>4</td>\n",
              "      <td>1</td>\n",
              "    </tr>\n",
              "    <tr>\n",
              "      <th>21</th>\n",
              "      <td>tdcjXyFLMKAsvRhURNOkCg</td>\n",
              "      <td>2011-06-28</td>\n",
              "      <td>LmuKVFh03Uz318VKnUWrxA</td>\n",
              "      <td>5</td>\n",
              "      <td>This place shouldn't even be reviewed - becaus...</td>\n",
              "      <td>review</td>\n",
              "      <td>YN3ZLOdg8kpnfbVcIhuEZA</td>\n",
              "      <td>1</td>\n",
              "      <td>1</td>\n",
              "      <td>2</td>\n",
              "    </tr>\n",
              "    <tr>\n",
              "      <th>22</th>\n",
              "      <td>eFA9dqXT5EA_TrMgbo03QQ</td>\n",
              "      <td>2011-07-13</td>\n",
              "      <td>CQYc8hgKxV4enApDkx0IhA</td>\n",
              "      <td>5</td>\n",
              "      <td>first time my friend and I went there... it wa...</td>\n",
              "      <td>review</td>\n",
              "      <td>6lg55RIP23VhjYEBXJ8Njw</td>\n",
              "      <td>0</td>\n",
              "      <td>0</td>\n",
              "      <td>0</td>\n",
              "    </tr>\n",
              "    <tr>\n",
              "      <th>23</th>\n",
              "      <td>IJ0o6b8bJFAbG6MjGfBebQ</td>\n",
              "      <td>2010-09-05</td>\n",
              "      <td>Dx9sfFU6Zn0GYOckijom-g</td>\n",
              "      <td>1</td>\n",
              "      <td>U can go there n check the car out. If u wanna...</td>\n",
              "      <td>review</td>\n",
              "      <td>zRlQEDYd_HKp0VS3hnAffA</td>\n",
              "      <td>0</td>\n",
              "      <td>1</td>\n",
              "      <td>1</td>\n",
              "    </tr>\n",
              "    <tr>\n",
              "      <th>24</th>\n",
              "      <td>JhupPnWfNlMJivnWB5druA</td>\n",
              "      <td>2011-05-22</td>\n",
              "      <td>cFtQnKzn2VDpBedy_TxlvA</td>\n",
              "      <td>5</td>\n",
              "      <td>I love this place! I have been coming here for...</td>\n",
              "      <td>review</td>\n",
              "      <td>13xj6FSvYO0rZVRv5XZp4w</td>\n",
              "      <td>0</td>\n",
              "      <td>1</td>\n",
              "      <td>0</td>\n",
              "    </tr>\n",
              "    <tr>\n",
              "      <th>25</th>\n",
              "      <td>wzP2yNpV5p04nh0injjymA</td>\n",
              "      <td>2010-05-26</td>\n",
              "      <td>ChBeixVZerfFkeO0McdlbA</td>\n",
              "      <td>4</td>\n",
              "      <td>This place is great.  A nice little ole' fashi...</td>\n",
              "      <td>review</td>\n",
              "      <td>rLtl8ZkDX5vH5nAx9C3q5Q</td>\n",
              "      <td>0</td>\n",
              "      <td>0</td>\n",
              "      <td>0</td>\n",
              "    </tr>\n",
              "    <tr>\n",
              "      <th>26</th>\n",
              "      <td>qjmCVYkwP-HDa35jwYucbQ</td>\n",
              "      <td>2013-01-03</td>\n",
              "      <td>kZ4TzrVX6qeF0OvrVTGVEw</td>\n",
              "      <td>5</td>\n",
              "      <td>I love love LOVE this place. My boss (who is i...</td>\n",
              "      <td>review</td>\n",
              "      <td>fpItLlgimq0nRltWOkuJJw</td>\n",
              "      <td>0</td>\n",
              "      <td>0</td>\n",
              "      <td>0</td>\n",
              "    </tr>\n",
              "    <tr>\n",
              "      <th>27</th>\n",
              "      <td>wct7rZKyZqZftzmAU-vhWQ</td>\n",
              "      <td>2008-03-21</td>\n",
              "      <td>B5h25WK28rJjx4KHm4gr7g</td>\n",
              "      <td>4</td>\n",
              "      <td>Not that my review will mean much given the mo...</td>\n",
              "      <td>review</td>\n",
              "      <td>RRTraCQw77EU4yZh0BBTag</td>\n",
              "      <td>2</td>\n",
              "      <td>4</td>\n",
              "      <td>1</td>\n",
              "    </tr>\n",
              "    <tr>\n",
              "      <th>28</th>\n",
              "      <td>vz2zQQSjy-NnnKLZzjjoxA</td>\n",
              "      <td>2011-03-30</td>\n",
              "      <td>Y_ERKao0J5WsRiCtlKSNSA</td>\n",
              "      <td>4</td>\n",
              "      <td>Came here for breakfast yesterday, it had been...</td>\n",
              "      <td>review</td>\n",
              "      <td>EP3cGJvYiuOwumerwADplg</td>\n",
              "      <td>1</td>\n",
              "      <td>1</td>\n",
              "      <td>1</td>\n",
              "    </tr>\n",
              "    <tr>\n",
              "      <th>29</th>\n",
              "      <td>i213sY5rhkfCO8cD-FPr1A</td>\n",
              "      <td>2012-07-12</td>\n",
              "      <td>hre97jjSwon4bn1muHKOJg</td>\n",
              "      <td>4</td>\n",
              "      <td>Always reliably good.  Great beer selection as...</td>\n",
              "      <td>review</td>\n",
              "      <td>kpbhy1zPewGDmdNfNqQp-g</td>\n",
              "      <td>0</td>\n",
              "      <td>1</td>\n",
              "      <td>0</td>\n",
              "    </tr>\n",
              "    <tr>\n",
              "      <th>30</th>\n",
              "      <td>V1nEpIRmEa1768oj_tuxeQ</td>\n",
              "      <td>2011-05-09</td>\n",
              "      <td>dtpJXC5p_sdWDLSobluJ3Q</td>\n",
              "      <td>5</td>\n",
              "      <td>Disclaimer: Like many of you, I am a sucker fo...</td>\n",
              "      <td>review</td>\n",
              "      <td>bCKjygWJZOQHCOzootbvow</td>\n",
              "      <td>0</td>\n",
              "      <td>2</td>\n",
              "      <td>0</td>\n",
              "    </tr>\n",
              "    <tr>\n",
              "      <th>31</th>\n",
              "      <td>vvA3fbps4F9nGlAEYKk_sA</td>\n",
              "      <td>2012-05-04</td>\n",
              "      <td>S9OVpXat8k5YwWCn6FAgXg</td>\n",
              "      <td>1</td>\n",
              "      <td>Disgusting!  Had a Groupon so my daughter and ...</td>\n",
              "      <td>review</td>\n",
              "      <td>8AMn6644NmBf96xGO3w6OA</td>\n",
              "      <td>0</td>\n",
              "      <td>1</td>\n",
              "      <td>0</td>\n",
              "    </tr>\n",
              "    <tr>\n",
              "      <th>32</th>\n",
              "      <td>rxQ2PIjhAx6dgAqUalf99Q</td>\n",
              "      <td>2012-09-09</td>\n",
              "      <td>-v-shjbxoj7hpU62yn6vag</td>\n",
              "      <td>5</td>\n",
              "      <td>Never having dealt with a Discount Tire in Pho...</td>\n",
              "      <td>review</td>\n",
              "      <td>HLbhD2OyiMCUDRR4c1iXaw</td>\n",
              "      <td>0</td>\n",
              "      <td>0</td>\n",
              "      <td>0</td>\n",
              "    </tr>\n",
              "    <tr>\n",
              "      <th>33</th>\n",
              "      <td>qjmCVYkwP-HDa35jwYucbQ</td>\n",
              "      <td>2010-03-28</td>\n",
              "      <td>2VTwjhOX3UUvgOGbxe4xfA</td>\n",
              "      <td>4</td>\n",
              "      <td>I went here again when I got back to Phoenix a...</td>\n",
              "      <td>review</td>\n",
              "      <td>3iuZFgxUFKLxOplkDrFmyg</td>\n",
              "      <td>0</td>\n",
              "      <td>0</td>\n",
              "      <td>0</td>\n",
              "    </tr>\n",
              "    <tr>\n",
              "      <th>34</th>\n",
              "      <td>3oLy0rlzRI_xiqfQHqC4_g</td>\n",
              "      <td>2011-03-27</td>\n",
              "      <td>Bk7F8IyBuOHVp6w3BAKVow</td>\n",
              "      <td>3</td>\n",
              "      <td>There's two ways to look at this place. One is...</td>\n",
              "      <td>review</td>\n",
              "      <td>1guJDgUfTiDdbgKqBhsZFQ</td>\n",
              "      <td>1</td>\n",
              "      <td>3</td>\n",
              "      <td>1</td>\n",
              "    </tr>\n",
              "    <tr>\n",
              "      <th>35</th>\n",
              "      <td>o1GIYYZJjM6nM03fQs_uEQ</td>\n",
              "      <td>2011-11-30</td>\n",
              "      <td>ApKbwpYJdnhhgP4NbjQw2Q</td>\n",
              "      <td>1</td>\n",
              "      <td>I've eaten here many times, but none as bad as...</td>\n",
              "      <td>review</td>\n",
              "      <td>iwUN95LIaEr75TZE_JC6bg</td>\n",
              "      <td>0</td>\n",
              "      <td>4</td>\n",
              "      <td>3</td>\n",
              "    </tr>\n",
              "    <tr>\n",
              "      <th>36</th>\n",
              "      <td>Pr9rQKypHgC_J1AfufxzIw</td>\n",
              "      <td>2008-12-28</td>\n",
              "      <td>vUuFuf4LYxfqbZH3lYxJfw</td>\n",
              "      <td>4</td>\n",
              "      <td>They must have renovated this place in the las...</td>\n",
              "      <td>review</td>\n",
              "      <td>iFa0SLpNeLbx6aux65mNbQ</td>\n",
              "      <td>0</td>\n",
              "      <td>1</td>\n",
              "      <td>0</td>\n",
              "    </tr>\n",
              "    <tr>\n",
              "      <th>37</th>\n",
              "      <td>AGar9KVq_W7YcF76avbDTw</td>\n",
              "      <td>2012-10-16</td>\n",
              "      <td>gNm48xplqt42p-NvCkzUBg</td>\n",
              "      <td>4</td>\n",
              "      <td>Very clean and well thought out floor plans, n...</td>\n",
              "      <td>review</td>\n",
              "      <td>370JyOQfFcPSB9_jk641gA</td>\n",
              "      <td>0</td>\n",
              "      <td>0</td>\n",
              "      <td>0</td>\n",
              "    </tr>\n",
              "    <tr>\n",
              "      <th>38</th>\n",
              "      <td>-kVXDEqGHOWKxQ3EhvFgVA</td>\n",
              "      <td>2011-01-02</td>\n",
              "      <td>5V9lfjjlY7tkXgkcDUWYyg</td>\n",
              "      <td>4</td>\n",
              "      <td>This Mexican food is very simple, slightly bla...</td>\n",
              "      <td>review</td>\n",
              "      <td>Ja8SAyDdf1aY-E7vVixJiw</td>\n",
              "      <td>0</td>\n",
              "      <td>0</td>\n",
              "      <td>0</td>\n",
              "    </tr>\n",
              "    <tr>\n",
              "      <th>39</th>\n",
              "      <td>qyNtVViurIcChc35mfYIEw</td>\n",
              "      <td>2008-07-09</td>\n",
              "      <td>1fRGR6XTTElRBZW_oDrpUA</td>\n",
              "      <td>4</td>\n",
              "      <td>Decor  functional \\nStaff friendly and are rea...</td>\n",
              "      <td>review</td>\n",
              "      <td>N3L6SDymSRkYQtTiSDmXSg</td>\n",
              "      <td>1</td>\n",
              "      <td>1</td>\n",
              "      <td>0</td>\n",
              "    </tr>\n",
              "    <tr>\n",
              "      <th>40</th>\n",
              "      <td>umdxfhSlk67yGEi8-S-bEg</td>\n",
              "      <td>2011-11-09</td>\n",
              "      <td>2sG6LKzRz91l10stVHl8uQ</td>\n",
              "      <td>4</td>\n",
              "      <td>This Place just opened up next to the salon I ...</td>\n",
              "      <td>review</td>\n",
              "      <td>F0dO68TECqEJBhBJ4P0qVA</td>\n",
              "      <td>0</td>\n",
              "      <td>1</td>\n",
              "      <td>0</td>\n",
              "    </tr>\n",
              "    <tr>\n",
              "      <th>41</th>\n",
              "      <td>qsThMZ3lXWYLN4t08ScsNA</td>\n",
              "      <td>2009-03-13</td>\n",
              "      <td>fuY6Bf4EtW3UwrdLQJa9_Q</td>\n",
              "      <td>4</td>\n",
              "      <td>I really really like Frances.  I love most of ...</td>\n",
              "      <td>review</td>\n",
              "      <td>W_QXYA7A0IhMrvbckz7eVg</td>\n",
              "      <td>2</td>\n",
              "      <td>2</td>\n",
              "      <td>1</td>\n",
              "    </tr>\n",
              "    <tr>\n",
              "      <th>42</th>\n",
              "      <td>puy0PzIcCgR3KWJI7llBFQ</td>\n",
              "      <td>2012-06-30</td>\n",
              "      <td>UTWI0z7nV5zNJLWnOz9Z5A</td>\n",
              "      <td>4</td>\n",
              "      <td>Solid food, great device, and casual environme...</td>\n",
              "      <td>review</td>\n",
              "      <td>PiDqfET_ZrDKJSLKe03O9A</td>\n",
              "      <td>0</td>\n",
              "      <td>0</td>\n",
              "      <td>0</td>\n",
              "    </tr>\n",
              "    <tr>\n",
              "      <th>43</th>\n",
              "      <td>e0vubCKi8KD8zC2C6FdbuQ</td>\n",
              "      <td>2012-04-12</td>\n",
              "      <td>7uzj6rJ71toRmdsXyo2suA</td>\n",
              "      <td>4</td>\n",
              "      <td>my son really enjoys islands, great food, casu...</td>\n",
              "      <td>review</td>\n",
              "      <td>wv5-4IPtpVA8wdqXu-Onpw</td>\n",
              "      <td>0</td>\n",
              "      <td>1</td>\n",
              "      <td>0</td>\n",
              "    </tr>\n",
              "    <tr>\n",
              "      <th>44</th>\n",
              "      <td>faSdsW2s_SaVN0KTy-R2MQ</td>\n",
              "      <td>2009-06-13</td>\n",
              "      <td>HXU9dbOSlByXW-dB8LmJgA</td>\n",
              "      <td>4</td>\n",
              "      <td>I was seated at the bar. A very nice young man...</td>\n",
              "      <td>review</td>\n",
              "      <td>7cR92zkDv4W3kqzii6axvg</td>\n",
              "      <td>1</td>\n",
              "      <td>1</td>\n",
              "      <td>1</td>\n",
              "    </tr>\n",
              "    <tr>\n",
              "      <th>45</th>\n",
              "      <td>qB-qsaSnhbHCt18_AN4Quw</td>\n",
              "      <td>2011-12-21</td>\n",
              "      <td>1FvrC35rTJ6BWFvRog7tuA</td>\n",
              "      <td>3</td>\n",
              "      <td>Everything was nice. The ice cream was delicio...</td>\n",
              "      <td>review</td>\n",
              "      <td>66PQJEHC0tCWGMI4V9KT-Q</td>\n",
              "      <td>0</td>\n",
              "      <td>0</td>\n",
              "      <td>0</td>\n",
              "    </tr>\n",
              "    <tr>\n",
              "      <th>46</th>\n",
              "      <td>aRkYtXfmEKYG-eTDf_qUsw</td>\n",
              "      <td>2009-04-04</td>\n",
              "      <td>Ckk1Cne1GHwzmJfo7M4r2w</td>\n",
              "      <td>5</td>\n",
              "      <td>(Un)fortunately for me, lux is close to my hou...</td>\n",
              "      <td>review</td>\n",
              "      <td>IUWjTmXc3wLVaMHz33inaA</td>\n",
              "      <td>2</td>\n",
              "      <td>1</td>\n",
              "      <td>1</td>\n",
              "    </tr>\n",
              "    <tr>\n",
              "      <th>47</th>\n",
              "      <td>JuBygU4XDjqSeW9okyvbsQ</td>\n",
              "      <td>2010-09-25</td>\n",
              "      <td>bu9S6tFKuTrMcNxQaQYMQA</td>\n",
              "      <td>3</td>\n",
              "      <td>After watching her win on Cupcake Wars I was d...</td>\n",
              "      <td>review</td>\n",
              "      <td>1MyXsAhZK35A6EAr4reLCA</td>\n",
              "      <td>0</td>\n",
              "      <td>1</td>\n",
              "      <td>1</td>\n",
              "    </tr>\n",
              "    <tr>\n",
              "      <th>48</th>\n",
              "      <td>jRfdz5voj40P6WS9L54caw</td>\n",
              "      <td>2012-01-03</td>\n",
              "      <td>V75NCU3EhqTDwPj5In94DQ</td>\n",
              "      <td>4</td>\n",
              "      <td>Good for an easy and leisurely business lunch ...</td>\n",
              "      <td>review</td>\n",
              "      <td>r-t7IiTSD0QZdt8lOUCqeQ</td>\n",
              "      <td>0</td>\n",
              "      <td>1</td>\n",
              "      <td>0</td>\n",
              "    </tr>\n",
              "    <tr>\n",
              "      <th>49</th>\n",
              "      <td>7SO_rX1F6rQEl-5s3wZxgQ</td>\n",
              "      <td>2011-10-03</td>\n",
              "      <td>GxaYFCprt-wyqO--vB4PHQ</td>\n",
              "      <td>4</td>\n",
              "      <td>After my last review, somewhat scathing regard...</td>\n",
              "      <td>review</td>\n",
              "      <td>J3I2NClEbD1Xr8lOdjxlqQ</td>\n",
              "      <td>1</td>\n",
              "      <td>2</td>\n",
              "      <td>1</td>\n",
              "    </tr>\n",
              "  </tbody>\n",
              "</table>\n",
              "</div>"
            ],
            "text/plain": [
              "               business_id        date  ... useful  funny\n",
              "0   9yKzy9PApeiPPOUJEtnvkg  2011-01-26  ...      5      0\n",
              "1   ZRJwVLyzEJq1VAihDhYiow  2011-07-27  ...      0      0\n",
              "2   6oRAC4uyJCsJl1X0WZpVSA  2012-06-14  ...      1      0\n",
              "3   _1QQZuf4zZOyFCvXc0o6Vg  2010-05-27  ...      2      0\n",
              "4   6ozycU1RpktNG2-1BroVtw  2012-01-05  ...      0      0\n",
              "5   -yxfBYGB6SEqszmxJxd97A  2007-12-13  ...      3      1\n",
              "6   zp713qNhx8d9KCJJnrw1xA  2010-02-12  ...      7      4\n",
              "7   hW0Ne_HTHEAgGF1rAdmR-g  2012-07-12  ...      1      0\n",
              "8   wNUea3IXZWD63bbOQaOH-g  2012-08-17  ...      0      0\n",
              "9   nMHhuYan8e3cONo3PornJA  2010-08-11  ...      1      0\n",
              "10  AsSCv0q_BWqIe3mX2JqsOQ  2010-06-16  ...      3      1\n",
              "11  e9nN4XxjdHj4qtKCOPq_vg  2011-10-21  ...      1      0\n",
              "12  h53YuCiIDfEFSJCQpk8v1g  2010-01-11  ...      2      0\n",
              "13  WGNIYMeXPyoWav1APUq7jA  2011-12-23  ...      2      0\n",
              "14  yc5AH9H71xJidA_J2mChLA  2010-05-20  ...      1      0\n",
              "15  Vb9FPCEL6Ly24PNxLBaAFw  2011-03-20  ...      2      0\n",
              "16  supigcPNO9IKo6olaTNV-g  2008-10-12  ...      4      2\n",
              "17  O510Re68mOy9dU490JTKCg  2010-05-03  ...      0      0\n",
              "18  b5cEoKR8iQliq-yT2_O0LQ  2009-03-06  ...      6      4\n",
              "19  4JzzbSbK9wmlOBJZWYfuCg  2011-11-17  ...      1      1\n",
              "20  8FNO4D3eozpIjj0k3q5Zbg  2008-10-08  ...      4      1\n",
              "21  tdcjXyFLMKAsvRhURNOkCg  2011-06-28  ...      1      2\n",
              "22  eFA9dqXT5EA_TrMgbo03QQ  2011-07-13  ...      0      0\n",
              "23  IJ0o6b8bJFAbG6MjGfBebQ  2010-09-05  ...      1      1\n",
              "24  JhupPnWfNlMJivnWB5druA  2011-05-22  ...      1      0\n",
              "25  wzP2yNpV5p04nh0injjymA  2010-05-26  ...      0      0\n",
              "26  qjmCVYkwP-HDa35jwYucbQ  2013-01-03  ...      0      0\n",
              "27  wct7rZKyZqZftzmAU-vhWQ  2008-03-21  ...      4      1\n",
              "28  vz2zQQSjy-NnnKLZzjjoxA  2011-03-30  ...      1      1\n",
              "29  i213sY5rhkfCO8cD-FPr1A  2012-07-12  ...      1      0\n",
              "30  V1nEpIRmEa1768oj_tuxeQ  2011-05-09  ...      2      0\n",
              "31  vvA3fbps4F9nGlAEYKk_sA  2012-05-04  ...      1      0\n",
              "32  rxQ2PIjhAx6dgAqUalf99Q  2012-09-09  ...      0      0\n",
              "33  qjmCVYkwP-HDa35jwYucbQ  2010-03-28  ...      0      0\n",
              "34  3oLy0rlzRI_xiqfQHqC4_g  2011-03-27  ...      3      1\n",
              "35  o1GIYYZJjM6nM03fQs_uEQ  2011-11-30  ...      4      3\n",
              "36  Pr9rQKypHgC_J1AfufxzIw  2008-12-28  ...      1      0\n",
              "37  AGar9KVq_W7YcF76avbDTw  2012-10-16  ...      0      0\n",
              "38  -kVXDEqGHOWKxQ3EhvFgVA  2011-01-02  ...      0      0\n",
              "39  qyNtVViurIcChc35mfYIEw  2008-07-09  ...      1      0\n",
              "40  umdxfhSlk67yGEi8-S-bEg  2011-11-09  ...      1      0\n",
              "41  qsThMZ3lXWYLN4t08ScsNA  2009-03-13  ...      2      1\n",
              "42  puy0PzIcCgR3KWJI7llBFQ  2012-06-30  ...      0      0\n",
              "43  e0vubCKi8KD8zC2C6FdbuQ  2012-04-12  ...      1      0\n",
              "44  faSdsW2s_SaVN0KTy-R2MQ  2009-06-13  ...      1      1\n",
              "45  qB-qsaSnhbHCt18_AN4Quw  2011-12-21  ...      0      0\n",
              "46  aRkYtXfmEKYG-eTDf_qUsw  2009-04-04  ...      1      1\n",
              "47  JuBygU4XDjqSeW9okyvbsQ  2010-09-25  ...      1      1\n",
              "48  jRfdz5voj40P6WS9L54caw  2012-01-03  ...      1      0\n",
              "49  7SO_rX1F6rQEl-5s3wZxgQ  2011-10-03  ...      2      1\n",
              "\n",
              "[50 rows x 10 columns]"
            ]
          },
          "metadata": {
            "tags": []
          },
          "execution_count": 3
        }
      ]
    },
    {
      "cell_type": "code",
      "metadata": {
        "id": "bNvh9G6649lx",
        "colab_type": "code",
        "colab": {}
      },
      "source": [
        "train.stars=train.stars.map({5:2,4:2,3:1,2:0,1:0})"
      ],
      "execution_count": 0,
      "outputs": []
    },
    {
      "cell_type": "code",
      "metadata": {
        "id": "ZndQFI845f3z",
        "colab_type": "code",
        "outputId": "eb4695f6-3e69-42c1-fb9d-db3f71e3d5d9",
        "colab": {
          "base_uri": "https://localhost:8080/",
          "height": 36
        }
      },
      "source": [
        "train.stars.nunique()"
      ],
      "execution_count": 0,
      "outputs": [
        {
          "output_type": "execute_result",
          "data": {
            "text/plain": [
              "3"
            ]
          },
          "metadata": {
            "tags": []
          },
          "execution_count": 5
        }
      ]
    },
    {
      "cell_type": "code",
      "metadata": {
        "id": "aSxJKlDx5vi_",
        "colab_type": "code",
        "outputId": "52566bb4-9587-49b2-9841-186b00f4b8db",
        "colab": {
          "base_uri": "https://localhost:8080/",
          "height": 298
        }
      },
      "source": [
        "import seaborn as sns\n",
        "sns.countplot(x= 'stars',data = train)"
      ],
      "execution_count": 0,
      "outputs": [
        {
          "output_type": "execute_result",
          "data": {
            "text/plain": [
              "<matplotlib.axes._subplots.AxesSubplot at 0x7fc43c3744e0>"
            ]
          },
          "metadata": {
            "tags": []
          },
          "execution_count": 6
        },
        {
          "output_type": "display_data",
          "data": {
            "image/png": "[encoded data removed]",
            "text/plain": [
              "<Figure size 432x288 with 1 Axes>"
            ]
          },
          "metadata": {
            "tags": []
          }
        }
      ]
    },
    {
      "cell_type": "markdown",
      "metadata": {
        "id": "6OVG0EPz65Py",
        "colab_type": "text"
      },
      "source": [
        "Let's write a function for preprocessing\n"
      ]
    },
    {
      "cell_type": "code",
      "metadata": {
        "id": "-RJVeedx7A2o",
        "colab_type": "code",
        "outputId": "2e20d78f-fa43-40e4-a5e7-e5074aac7c85",
        "colab": {
          "base_uri": "https://localhost:8080/",
          "height": 91
        }
      },
      "source": [
        "import re\n",
        "import nltk\n",
        "nltk.download('stopwords')\n",
        "nltk.download('wordnet')\n",
        "from nltk.corpus import stopwords\n",
        "from nltk.stem.porter import PorterStemmer\n",
        "\n",
        "from nltk.stem import WordNetLemmatizer \n",
        "from nltk.tokenize import RegexpTokenizer\n",
        "tokenizer = RegexpTokenizer(r'\\w+') \n",
        "lemmatizer = WordNetLemmatizer() \n",
        "stopwords=set(stopwords.words('english'))\n",
        "\n",
        "def preprocess_text(text):\n",
        "  #text is of type Series\n",
        "  corpus = []\n",
        "  for i in range(0,len(text)):\n",
        "    smsDocument = re.sub('[^a-zA-Z]',' ',text[i])\n",
        "    smsDocument = smsDocument.lower()\n",
        "    smsDocument = tokenizer.tokenize(smsDocument)\n",
        "    smsDocument = [lemmatizer.lemmatize(word) for word in smsDocument if not word in stopwords]\n",
        "    smsDocument = ' '.join(smsDocument)\n",
        "    corpus.append(smsDocument)\n",
        "  smsDocuments = pd.Series(corpus)\n",
        "  return(smsDocuments)"
      ],
      "execution_count": 0,
      "outputs": [
        {
          "output_type": "stream",
          "text": [
            "[nltk_data] Downloading package stopwords to /root/nltk_data...\n",
            "[nltk_data]   Unzipping corpora/stopwords.zip.\n",
            "[nltk_data] Downloading package wordnet to /root/nltk_data...\n",
            "[nltk_data]   Unzipping corpora/wordnet.zip.\n"
          ],
          "name": "stdout"
        }
      ]
    },
    {
      "cell_type": "code",
      "metadata": {
        "id": "TDXVYX9t91kd",
        "colab_type": "code",
        "outputId": "4b7cba14-a28a-4aba-8a86-775f30410778",
        "colab": {
          "base_uri": "https://localhost:8080/",
          "height": 240
        }
      },
      "source": [
        "preprocess_text(train.text)"
      ],
      "execution_count": 0,
      "outputs": [
        {
          "output_type": "execute_result",
          "data": {
            "text/plain": [
              "0       wife took birthday breakfast excellent weather...\n",
              "1       idea people give bad review place go show plea...\n",
              "2       love gyro plate rice good also dig candy selec...\n",
              "3       rosie dakota love chaparral dog park convenien...\n",
              "4       general manager scott petello good egg go deta...\n",
              "                              ...                        \n",
              "9995    first visit lunch today used groupon ordered b...\n",
              "9996    called house deliciousness could go item item ...\n",
              "9997    recently visited olive ivy business last week ...\n",
              "9998    nephew moved scottsdale recently bunch friend ...\n",
              "9999    location star average think arizona really fan...\n",
              "Length: 10000, dtype: object"
            ]
          },
          "metadata": {
            "tags": []
          },
          "execution_count": 39
        }
      ]
    },
    {
      "cell_type": "markdown",
      "metadata": {
        "id": "h7cFqlan-zlQ",
        "colab_type": "text"
      },
      "source": [
        "##### Let's create a new dataframe\n"
      ]
    },
    {
      "cell_type": "code",
      "metadata": {
        "id": "YhCv9O0V-52q",
        "colab_type": "code",
        "colab": {}
      },
      "source": [
        "train_df=pd.DataFrame()\n",
        "train_df[\"text\"]=preprocess_text(train.text)\n",
        "train_df[\"target\"]=train.stars"
      ],
      "execution_count": 0,
      "outputs": []
    },
    {
      "cell_type": "code",
      "metadata": {
        "id": "XeTiVOmq_GCh",
        "colab_type": "code",
        "outputId": "d5881c2f-2d66-4a7a-8c75-449ef9567a21",
        "colab": {
          "base_uri": "https://localhost:8080/",
          "height": 206
        }
      },
      "source": [
        "train_df.head()"
      ],
      "execution_count": 0,
      "outputs": [
        {
          "output_type": "execute_result",
          "data": {
            "text/html": [
              "<div>\n",
              "<style scoped>\n",
              "    .dataframe tbody tr th:only-of-type {\n",
              "        vertical-align: middle;\n",
              "    }\n",
              "\n",
              "    .dataframe tbody tr th {\n",
              "        vertical-align: top;\n",
              "    }\n",
              "\n",
              "    .dataframe thead th {\n",
              "        text-align: right;\n",
              "    }\n",
              "</style>\n",
              "<table border=\"1\" class=\"dataframe\">\n",
              "  <thead>\n",
              "    <tr style=\"text-align: right;\">\n",
              "      <th></th>\n",
              "      <th>text</th>\n",
              "      <th>target</th>\n",
              "    </tr>\n",
              "  </thead>\n",
              "  <tbody>\n",
              "    <tr>\n",
              "      <th>0</th>\n",
              "      <td>wife took birthday breakfast excellent weather...</td>\n",
              "      <td>2</td>\n",
              "    </tr>\n",
              "    <tr>\n",
              "      <th>1</th>\n",
              "      <td>idea people give bad review place go show plea...</td>\n",
              "      <td>2</td>\n",
              "    </tr>\n",
              "    <tr>\n",
              "      <th>2</th>\n",
              "      <td>love gyro plate rice good also dig candy selec...</td>\n",
              "      <td>2</td>\n",
              "    </tr>\n",
              "    <tr>\n",
              "      <th>3</th>\n",
              "      <td>rosie dakota love chaparral dog park convenien...</td>\n",
              "      <td>2</td>\n",
              "    </tr>\n",
              "    <tr>\n",
              "      <th>4</th>\n",
              "      <td>general manager scott petello good egg go deta...</td>\n",
              "      <td>2</td>\n",
              "    </tr>\n",
              "  </tbody>\n",
              "</table>\n",
              "</div>"
            ],
            "text/plain": [
              "                                                text  target\n",
              "0  wife took birthday breakfast excellent weather...       2\n",
              "1  idea people give bad review place go show plea...       2\n",
              "2  love gyro plate rice good also dig candy selec...       2\n",
              "3  rosie dakota love chaparral dog park convenien...       2\n",
              "4  general manager scott petello good egg go deta...       2"
            ]
          },
          "metadata": {
            "tags": []
          },
          "execution_count": 9
        }
      ]
    },
    {
      "cell_type": "markdown",
      "metadata": {
        "id": "daugXQC3_x5B",
        "colab_type": "text"
      },
      "source": [
        "### Feature extraction\n"
      ]
    },
    {
      "cell_type": "code",
      "metadata": {
        "id": "omEtF2DadCEX",
        "colab_type": "code",
        "colab": {}
      },
      "source": [
        "from sklearn.feature_extraction.text import TfidfVectorizer\n",
        "tfidf = TfidfVectorizer()\n",
        "tfidf.fit(list(train_df.text.values))\n",
        "tf_idf_matrix = tfidf2.transform(list(train_df.text.values))"
      ],
      "execution_count": 0,
      "outputs": []
    },
    {
      "cell_type": "markdown",
      "metadata": {
        "id": "TKbDwDGyAOBK",
        "colab_type": "text"
      },
      "source": [
        "Let's split the data into train and test and train the model\n"
      ]
    },
    {
      "cell_type": "code",
      "metadata": {
        "id": "f8POmV0iAkXW",
        "colab_type": "code",
        "colab": {}
      },
      "source": [
        "from sklearn.naive_bayes import MultinomialNB\n",
        "from sklearn.model_selection import train_test_split\n",
        "from sklearn import svm\n",
        "X_train, X_test, y_train, y_test = train_test_split(tf_idf_matrix2, train_df[\"target\"], test_size=0.2,shuffle=True)\n",
        "\n",
        "clf = svm.SVC()\n",
        "clf.fit(X_train,y_train)\n",
        "predictions=clf.predict(X_test)"
      ],
      "execution_count": 0,
      "outputs": []
    },
    {
      "cell_type": "code",
      "metadata": {
        "id": "QYd-gNikBNvw",
        "colab_type": "code",
        "outputId": "c0a2731d-de5f-42e5-8ed9-8865671cc356",
        "colab": {
          "base_uri": "https://localhost:8080/",
          "height": 54
        }
      },
      "source": [
        "from sklearn.metrics import f1_score\n",
        "from sklearn.metrics import accuracy_score\n",
        "my_f1_score=f1_score(y_test, predictions, average='macro')\n",
        "my_accuracy=accuracy_score(y_test, predictions)\n",
        "print(\"F1 score = {}\".format(my_f1_score))\n",
        "print(\"accucary = {}\".format(my_accuracy))"
      ],
      "execution_count": 0,
      "outputs": [
        {
          "output_type": "stream",
          "text": [
            "F1 score = 0.5319902980444525\n",
            "accucary = 0.7745\n"
          ],
          "name": "stdout"
        }
      ]
    },
    {
      "cell_type": "code",
      "metadata": {
        "id": "419wrdHnCjN8",
        "colab_type": "code",
        "outputId": "48ebb2a3-fc4a-482f-b71b-50d5160ded64",
        "colab": {
          "base_uri": "https://localhost:8080/",
          "height": 186
        }
      },
      "source": [
        "from sklearn.linear_model import LogisticRegression\n",
        "LR = LogisticRegression()\n",
        "LR.fit(X_train,y_train)\n",
        "predictions_LR=LR.predict(X_test)"
      ],
      "execution_count": 0,
      "outputs": [
        {
          "output_type": "stream",
          "text": [
            "/usr/local/lib/python3.6/dist-packages/sklearn/linear_model/_logistic.py:940: ConvergenceWarning: lbfgs failed to converge (status=1):\n",
            "STOP: TOTAL NO. of ITERATIONS REACHED LIMIT.\n",
            "\n",
            "Increase the number of iterations (max_iter) or scale the data as shown in:\n",
            "    https://scikit-learn.org/stable/modules/preprocessing.html\n",
            "Please also refer to the documentation for alternative solver options:\n",
            "    https://scikit-learn.org/stable/modules/linear_model.html#logistic-regression\n",
            "  extra_warning_msg=_LOGISTIC_SOLVER_CONVERGENCE_MSG)\n"
          ],
          "name": "stderr"
        }
      ]
    },
    {
      "cell_type": "code",
      "metadata": {
        "id": "QauZkFDvCw-E",
        "colab_type": "code",
        "outputId": "ae308b25-7160-4e8c-ff88-6e3d4006cd7e",
        "colab": {
          "base_uri": "https://localhost:8080/",
          "height": 54
        }
      },
      "source": [
        "my_f1_score_LR=f1_score(y_test, predictions_LR, average='weighted')\n",
        "my_accuracy_LR=accuracy_score(y_test, predictions_LR)\n",
        "print(\"F1 score = {}\".format(my_f1_score_LR))\n",
        "print(\"accucary = {}\".format(my_accuracy_LR))"
      ],
      "execution_count": 0,
      "outputs": [
        {
          "output_type": "stream",
          "text": [
            "F1 score = 0.7539391138309284\n",
            "accucary = 0.7905\n"
          ],
          "name": "stdout"
        }
      ]
    },
    {
      "cell_type": "code",
      "metadata": {
        "id": "Ksp5FrcZEZyU",
        "colab_type": "code",
        "colab": {}
      },
      "source": [
        "from sklearn.naive_bayes import MultinomialNB\n",
        "NB= MultinomialNB()\n",
        "NB.fit(X_train,y_train)\n",
        "predictions_NB=clf.predict(X_test)\n",
        "\n"
      ],
      "execution_count": 0,
      "outputs": []
    },
    {
      "cell_type": "code",
      "metadata": {
        "id": "-Wf5rhSFEs6g",
        "colab_type": "code",
        "outputId": "e4faf876-e9be-4c16-c894-c0ccfe8edd9b",
        "colab": {
          "base_uri": "https://localhost:8080/",
          "height": 54
        }
      },
      "source": [
        "my_f1_score_NB=f1_score(y_test, predictions_NB, average='weighted')\n",
        "my_accuracy_NB=accuracy_score(y_test, predictions_NB)\n",
        "print(\"F1 score = {}\".format(my_f1_score_NB))\n",
        "print(\"accucary = {}\".format(my_accuracy_NB))"
      ],
      "execution_count": 0,
      "outputs": [
        {
          "output_type": "stream",
          "text": [
            "F1 score = 0.7197011960961976\n",
            "accucary = 0.7745\n"
          ],
          "name": "stdout"
        }
      ]
    },
    {
      "cell_type": "code",
      "metadata": {
        "id": "53wYVEq1F3Rb",
        "colab_type": "code",
        "colab": {}
      },
      "source": [
        "def predict_sentiment(model,sentence):\n",
        "  pred=model.predict(tfidf.transform([sentence]))\n",
        "  pred=pred[0]\n",
        "  if (pred==0):\n",
        "    print(\"negative\")\n",
        "  elif (pred==1):\n",
        "    print(\"neutral\")\n",
        "  else:\n",
        "    print(\"positive\")\n",
        "    "
      ],
      "execution_count": 0,
      "outputs": []
    },
    {
      "cell_type": "code",
      "metadata": {
        "id": "K3sgmVqLec8f",
        "colab_type": "code",
        "outputId": "8fd7e97e-4689-41b1-c5cf-d6c352f2ce1c",
        "colab": {
          "base_uri": "https://localhost:8080/",
          "height": 54
        }
      },
      "source": [
        "predict_sentiment(LR,\"this is really bad\")\n",
        "predict_sentiment(LR,\"this is really good isn't it ?\")"
      ],
      "execution_count": 0,
      "outputs": [
        {
          "output_type": "stream",
          "text": [
            "negative\n",
            "positive\n"
          ],
          "name": "stdout"
        }
      ]
    },
    {
      "cell_type": "markdown",
      "metadata": {
        "id": "CAscoD0diGcj",
        "colab_type": "text"
      },
      "source": [
        "# Category detection\n"
      ]
    },
    {
      "cell_type": "code",
      "metadata": {
        "id": "xnyA95Q-iJh4",
        "colab_type": "code",
        "colab": {}
      },
      "source": [
        "import zipfile\n",
        "with zipfile.ZipFile('/content/gdrive/My Drive/Text_mining/news-category-dataset.zip',\"r\") as zip_ref:\n",
        "    zip_ref.extractall('/content/gdrive/My Drive/Text_mining/twitter_sentiment_topic')"
      ],
      "execution_count": 0,
      "outputs": []
    },
    {
      "cell_type": "code",
      "metadata": {
        "id": "OQlLtD85idAB",
        "colab_type": "code",
        "colab": {}
      },
      "source": [
        "path2='/content/gdrive/My Drive/Text_mining/twitter_sentiment_topic'  \n",
        "train_path_topic=path2+\"/News_Category_Dataset_v2.json\"\n",
        "train_topic=pd.read_json(path_or_buf=train_path_topic,lines=True)"
      ],
      "execution_count": 0,
      "outputs": []
    },
    {
      "cell_type": "code",
      "metadata": {
        "id": "NUvxX_XWkk3U",
        "colab_type": "code",
        "outputId": "c05cf982-27dd-481a-dc89-ec279c6132dd",
        "colab": {
          "base_uri": "https://localhost:8080/",
          "height": 293
        }
      },
      "source": [
        "train_topic.head()"
      ],
      "execution_count": 0,
      "outputs": [
        {
          "output_type": "execute_result",
          "data": {
            "text/html": [
              "<div>\n",
              "<style scoped>\n",
              "    .dataframe tbody tr th:only-of-type {\n",
              "        vertical-align: middle;\n",
              "    }\n",
              "\n",
              "    .dataframe tbody tr th {\n",
              "        vertical-align: top;\n",
              "    }\n",
              "\n",
              "    .dataframe thead th {\n",
              "        text-align: right;\n",
              "    }\n",
              "</style>\n",
              "<table border=\"1\" class=\"dataframe\">\n",
              "  <thead>\n",
              "    <tr style=\"text-align: right;\">\n",
              "      <th></th>\n",
              "      <th>category</th>\n",
              "      <th>headline</th>\n",
              "      <th>authors</th>\n",
              "      <th>link</th>\n",
              "      <th>short_description</th>\n",
              "      <th>date</th>\n",
              "    </tr>\n",
              "  </thead>\n",
              "  <tbody>\n",
              "    <tr>\n",
              "      <th>0</th>\n",
              "      <td>CRIME</td>\n",
              "      <td>There Were 2 Mass Shootings In Texas Last Week...</td>\n",
              "      <td>Melissa Jeltsen</td>\n",
              "      <td>https://www.huffingtonpost.com/entry/texas-ama...</td>\n",
              "      <td>She left her husband. He killed their children...</td>\n",
              "      <td>2018-05-26</td>\n",
              "    </tr>\n",
              "    <tr>\n",
              "      <th>1</th>\n",
              "      <td>ENTERTAINMENT</td>\n",
              "      <td>Will Smith Joins Diplo And Nicky Jam For The 2...</td>\n",
              "      <td>Andy McDonald</td>\n",
              "      <td>https://www.huffingtonpost.com/entry/will-smit...</td>\n",
              "      <td>Of course it has a song.</td>\n",
              "      <td>2018-05-26</td>\n",
              "    </tr>\n",
              "    <tr>\n",
              "      <th>2</th>\n",
              "      <td>ENTERTAINMENT</td>\n",
              "      <td>Hugh Grant Marries For The First Time At Age 57</td>\n",
              "      <td>Ron Dicker</td>\n",
              "      <td>https://www.huffingtonpost.com/entry/hugh-gran...</td>\n",
              "      <td>The actor and his longtime girlfriend Anna Ebe...</td>\n",
              "      <td>2018-05-26</td>\n",
              "    </tr>\n",
              "    <tr>\n",
              "      <th>3</th>\n",
              "      <td>ENTERTAINMENT</td>\n",
              "      <td>Jim Carrey Blasts 'Castrato' Adam Schiff And D...</td>\n",
              "      <td>Ron Dicker</td>\n",
              "      <td>https://www.huffingtonpost.com/entry/jim-carre...</td>\n",
              "      <td>The actor gives Dems an ass-kicking for not fi...</td>\n",
              "      <td>2018-05-26</td>\n",
              "    </tr>\n",
              "    <tr>\n",
              "      <th>4</th>\n",
              "      <td>ENTERTAINMENT</td>\n",
              "      <td>Julianna Margulies Uses Donald Trump Poop Bags...</td>\n",
              "      <td>Ron Dicker</td>\n",
              "      <td>https://www.huffingtonpost.com/entry/julianna-...</td>\n",
              "      <td>The \"Dietland\" actress said using the bags is ...</td>\n",
              "      <td>2018-05-26</td>\n",
              "    </tr>\n",
              "  </tbody>\n",
              "</table>\n",
              "</div>"
            ],
            "text/plain": [
              "        category  ...       date\n",
              "0          CRIME  ... 2018-05-26\n",
              "1  ENTERTAINMENT  ... 2018-05-26\n",
              "2  ENTERTAINMENT  ... 2018-05-26\n",
              "3  ENTERTAINMENT  ... 2018-05-26\n",
              "4  ENTERTAINMENT  ... 2018-05-26\n",
              "\n",
              "[5 rows x 6 columns]"
            ]
          },
          "metadata": {
            "tags": []
          },
          "execution_count": 281
        }
      ]
    },
    {
      "cell_type": "code",
      "metadata": {
        "id": "x9RGGb4MmKc1",
        "colab_type": "code",
        "outputId": "7cac8b77-eada-41b5-c09a-06e73782478f",
        "colab": {
          "base_uri": "https://localhost:8080/",
          "height": 298
        }
      },
      "source": [
        "sns.countplot(x= 'category',data = train_topic)"
      ],
      "execution_count": 0,
      "outputs": [
        {
          "output_type": "execute_result",
          "data": {
            "text/plain": [
              "<matplotlib.axes._subplots.AxesSubplot at 0x7f10258a9978>"
            ]
          },
          "metadata": {
            "tags": []
          },
          "execution_count": 267
        },
        {
          "output_type": "display_data",
          "data": {
            "image/png": "[encoded data removed]",
            "text/plain": [
              "<Figure size 432x288 with 1 Axes>"
            ]
          },
          "metadata": {
            "tags": []
          }
        }
      ]
    },
    {
      "cell_type": "code",
      "metadata": {
        "id": "wxVlwn1nmxDj",
        "colab_type": "code",
        "colab": {}
      },
      "source": [
        "topic_df=pd.DataFrame()\n",
        "topic_df[\"text\"]=preprocess_text(train_topic.short_description)\n",
        "topic_df[\"target\"]=train_topic.category\n"
      ],
      "execution_count": 0,
      "outputs": []
    },
    {
      "cell_type": "code",
      "metadata": {
        "id": "0XOZDzRinwj7",
        "colab_type": "code",
        "outputId": "76904a33-919d-4cf4-f70f-cfb4eba0d7e5",
        "colab": {
          "base_uri": "https://localhost:8080/",
          "height": 242
        }
      },
      "source": [
        "! pip install category_encoders\n",
        "import category_encoders as ce\n",
        "encoder = ce.OrdinalEncoder(cols=[\"target\"])\n",
        "encoder.fit(topic_df)\n",
        "topic_df=encoder.transform(topic_df)\n"
      ],
      "execution_count": 0,
      "outputs": [
        {
          "output_type": "stream",
          "text": [
            "Requirement already satisfied: category_encoders in /usr/local/lib/python3.6/dist-packages (2.1.0)\n",
            "Requirement already satisfied: patsy>=0.4.1 in /usr/local/lib/python3.6/dist-packages (from category_encoders) (0.5.1)\n",
            "Requirement already satisfied: pandas>=0.21.1 in /usr/local/lib/python3.6/dist-packages (from category_encoders) (0.25.3)\n",
            "Requirement already satisfied: numpy>=1.11.3 in /usr/local/lib/python3.6/dist-packages (from category_encoders) (1.17.5)\n",
            "Requirement already satisfied: scikit-learn>=0.20.0 in /usr/local/lib/python3.6/dist-packages (from category_encoders) (0.22.1)\n",
            "Requirement already satisfied: statsmodels>=0.6.1 in /usr/local/lib/python3.6/dist-packages (from category_encoders) (0.10.2)\n",
            "Requirement already satisfied: scipy>=0.19.0 in /usr/local/lib/python3.6/dist-packages (from category_encoders) (1.4.1)\n",
            "Requirement already satisfied: six in /usr/local/lib/python3.6/dist-packages (from patsy>=0.4.1->category_encoders) (1.12.0)\n",
            "Requirement already satisfied: pytz>=2017.2 in /usr/local/lib/python3.6/dist-packages (from pandas>=0.21.1->category_encoders) (2018.9)\n",
            "Requirement already satisfied: python-dateutil>=2.6.1 in /usr/local/lib/python3.6/dist-packages (from pandas>=0.21.1->category_encoders) (2.6.1)\n",
            "Requirement already satisfied: joblib>=0.11 in /usr/local/lib/python3.6/dist-packages (from scikit-learn>=0.20.0->category_encoders) (0.14.1)\n"
          ],
          "name": "stdout"
        }
      ]
    },
    {
      "cell_type": "code",
      "metadata": {
        "id": "rllhpF7podTI",
        "colab_type": "code",
        "outputId": "3e55ad4b-c768-45f7-f9d9-67869c0f3dfc",
        "colab": {
          "base_uri": "https://localhost:8080/",
          "height": 837
        }
      },
      "source": [
        "print(encoder.get_params())"
      ],
      "execution_count": 0,
      "outputs": [
        {
          "output_type": "stream",
          "text": [
            "{'cols': ['target'], 'drop_invariant': False, 'handle_missing': 'value', 'handle_unknown': 'value', 'mapping': [{'col': 'target', 'mapping': CRIME              1\n",
            "ENTERTAINMENT      2\n",
            "WORLD NEWS         3\n",
            "IMPACT             4\n",
            "POLITICS           5\n",
            "WEIRD NEWS         6\n",
            "BLACK VOICES       7\n",
            "WOMEN              8\n",
            "COMEDY             9\n",
            "QUEER VOICES      10\n",
            "SPORTS            11\n",
            "BUSINESS          12\n",
            "TRAVEL            13\n",
            "MEDIA             14\n",
            "TECH              15\n",
            "RELIGION          16\n",
            "SCIENCE           17\n",
            "LATINO VOICES     18\n",
            "EDUCATION         19\n",
            "COLLEGE           20\n",
            "PARENTS           21\n",
            "ARTS & CULTURE    22\n",
            "STYLE             23\n",
            "GREEN             24\n",
            "TASTE             25\n",
            "HEALTHY LIVING    26\n",
            "THE WORLDPOST     27\n",
            "GOOD NEWS         28\n",
            "WORLDPOST         29\n",
            "FIFTY             30\n",
            "ARTS              31\n",
            "WELLNESS          32\n",
            "PARENTING         33\n",
            "HOME & LIVING     34\n",
            "STYLE & BEAUTY    35\n",
            "DIVORCE           36\n",
            "WEDDINGS          37\n",
            "FOOD & DRINK      38\n",
            "MONEY             39\n",
            "ENVIRONMENT       40\n",
            "CULTURE & ARTS    41\n",
            "NaN               -2\n",
            "dtype: int64, 'data_type': dtype('O')}], 'return_df': True, 'verbose': 0}\n"
          ],
          "name": "stdout"
        }
      ]
    },
    {
      "cell_type": "code",
      "metadata": {
        "id": "9jTPDxafox6o",
        "colab_type": "code",
        "outputId": "d0394bf4-7524-4d5c-d98e-1f62a819e6e6",
        "colab": {
          "base_uri": "https://localhost:8080/",
          "height": 206
        }
      },
      "source": [
        "topic_df.head()"
      ],
      "execution_count": 0,
      "outputs": [
        {
          "output_type": "execute_result",
          "data": {
            "text/html": [
              "<div>\n",
              "<style scoped>\n",
              "    .dataframe tbody tr th:only-of-type {\n",
              "        vertical-align: middle;\n",
              "    }\n",
              "\n",
              "    .dataframe tbody tr th {\n",
              "        vertical-align: top;\n",
              "    }\n",
              "\n",
              "    .dataframe thead th {\n",
              "        text-align: right;\n",
              "    }\n",
              "</style>\n",
              "<table border=\"1\" class=\"dataframe\">\n",
              "  <thead>\n",
              "    <tr style=\"text-align: right;\">\n",
              "      <th></th>\n",
              "      <th>text</th>\n",
              "      <th>target</th>\n",
              "    </tr>\n",
              "  </thead>\n",
              "  <tbody>\n",
              "    <tr>\n",
              "      <th>0</th>\n",
              "      <td>left husband killed child another day america</td>\n",
              "      <td>1</td>\n",
              "    </tr>\n",
              "    <tr>\n",
              "      <th>1</th>\n",
              "      <td>course song</td>\n",
              "      <td>2</td>\n",
              "    </tr>\n",
              "    <tr>\n",
              "      <th>2</th>\n",
              "      <td>actor longtime girlfriend anna eberstein tied ...</td>\n",
              "      <td>2</td>\n",
              "    </tr>\n",
              "    <tr>\n",
              "      <th>3</th>\n",
              "      <td>actor give dems as kicking fighting hard enoug...</td>\n",
              "      <td>2</td>\n",
              "    </tr>\n",
              "    <tr>\n",
              "      <th>4</th>\n",
              "      <td>dietland actress said using bag really cathart...</td>\n",
              "      <td>2</td>\n",
              "    </tr>\n",
              "  </tbody>\n",
              "</table>\n",
              "</div>"
            ],
            "text/plain": [
              "                                                text  target\n",
              "0      left husband killed child another day america       1\n",
              "1                                        course song       2\n",
              "2  actor longtime girlfriend anna eberstein tied ...       2\n",
              "3  actor give dems as kicking fighting hard enoug...       2\n",
              "4  dietland actress said using bag really cathart...       2"
            ]
          },
          "metadata": {
            "tags": []
          },
          "execution_count": 290
        }
      ]
    },
    {
      "cell_type": "markdown",
      "metadata": {
        "id": "-Q01ht1fpiWB",
        "colab_type": "text"
      },
      "source": [
        "### feature extraction"
      ]
    },
    {
      "cell_type": "code",
      "metadata": {
        "id": "nOo80m6ZpkhY",
        "colab_type": "code",
        "colab": {}
      },
      "source": [
        "from sklearn.feature_extraction.text import TfidfVectorizer\n",
        "tfidf_topic = TfidfVectorizer()\n",
        "tfidf_topic.fit(list(topic_df.text.values))\n",
        "tf_idf_topic_matrix = tfidf_topic.transform(list(topic_df.text.values))"
      ],
      "execution_count": 0,
      "outputs": []
    },
    {
      "cell_type": "code",
      "metadata": {
        "id": "3F0A-oHWpc91",
        "colab_type": "code",
        "colab": {}
      },
      "source": [
        "from sklearn.model_selection import train_test_split\n",
        "X_train_topic, X_test_topic, y_train_topic, y_test_topic = train_test_split(tf_idf_topic_matrix, topic_df[\"target\"], test_size=0.2,shuffle=True)"
      ],
      "execution_count": 0,
      "outputs": []
    },
    {
      "cell_type": "code",
      "metadata": {
        "id": "tXW59nmKqEIr",
        "colab_type": "code",
        "outputId": "23303a93-7f51-4971-c609-09e8c6c446d7",
        "colab": {
          "base_uri": "https://localhost:8080/",
          "height": 186
        }
      },
      "source": [
        "from sklearn.linear_model import LogisticRegression\n",
        "LR_topic = LogisticRegression()\n",
        "LR_topic.fit(X_train_topic,y_train_topic)\n",
        "predictions_LR_topic=LR_topic.predict(X_test_topic)"
      ],
      "execution_count": 0,
      "outputs": [
        {
          "output_type": "stream",
          "text": [
            "/usr/local/lib/python3.6/dist-packages/sklearn/linear_model/_logistic.py:940: ConvergenceWarning: lbfgs failed to converge (status=1):\n",
            "STOP: TOTAL NO. of ITERATIONS REACHED LIMIT.\n",
            "\n",
            "Increase the number of iterations (max_iter) or scale the data as shown in:\n",
            "    https://scikit-learn.org/stable/modules/preprocessing.html\n",
            "Please also refer to the documentation for alternative solver options:\n",
            "    https://scikit-learn.org/stable/modules/linear_model.html#logistic-regression\n",
            "  extra_warning_msg=_LOGISTIC_SOLVER_CONVERGENCE_MSG)\n"
          ],
          "name": "stderr"
        }
      ]
    },
    {
      "cell_type": "code",
      "metadata": {
        "id": "6yF7zpoGqQXy",
        "colab_type": "code",
        "outputId": "e48ce1d9-154d-46cf-eb68-70a44c35ddff",
        "colab": {
          "base_uri": "https://localhost:8080/",
          "height": 54
        }
      },
      "source": [
        "my_f1_score_LR_topic=f1_score(y_test_topic, predictions_LR_topic, average='weighted')\n",
        "my_accuracy_LR_topic=accuracy_score(y_test_topic, predictions_LR_topic)\n",
        "print(\"F1 score = {}\".format(my_f1_score_LR_topic))\n",
        "print(\"accucary = {}\".format(my_accuracy_LR_topic))"
      ],
      "execution_count": 0,
      "outputs": [
        {
          "output_type": "stream",
          "text": [
            "F1 score = 0.38523797466805076\n",
            "accucary = 0.43581190410993004\n"
          ],
          "name": "stdout"
        }
      ]
    },
    {
      "cell_type": "code",
      "metadata": {
        "id": "tIZ1pSt3t67S",
        "colab_type": "code",
        "colab": {}
      },
      "source": [
        "my_dict=(encoder.get_params())\n",
        "categories=list(my_dict[\"mapping\"][0][\"mapping\"].index)\n",
        "mapping=list(my_dict[\"mapping\"][0][\"mapping\"])\n",
        "mapping_dict={b:a for (b,a) in zip(mapping,categories)} "
      ],
      "execution_count": 0,
      "outputs": []
    },
    {
      "cell_type": "code",
      "metadata": {
        "id": "pfKvhREBuCz7",
        "colab_type": "code",
        "outputId": "d2025221-9363-4228-99ec-2cae4874208f",
        "colab": {
          "base_uri": "https://localhost:8080/",
          "height": 817
        }
      },
      "source": [
        "my_dict[\"mapping\"][0]"
      ],
      "execution_count": 0,
      "outputs": [
        {
          "output_type": "execute_result",
          "data": {
            "text/plain": [
              "{'col': 'target', 'data_type': dtype('O'), 'mapping': CRIME              1\n",
              " ENTERTAINMENT      2\n",
              " WORLD NEWS         3\n",
              " IMPACT             4\n",
              " POLITICS           5\n",
              " WEIRD NEWS         6\n",
              " BLACK VOICES       7\n",
              " WOMEN              8\n",
              " COMEDY             9\n",
              " QUEER VOICES      10\n",
              " SPORTS            11\n",
              " BUSINESS          12\n",
              " TRAVEL            13\n",
              " MEDIA             14\n",
              " TECH              15\n",
              " RELIGION          16\n",
              " SCIENCE           17\n",
              " LATINO VOICES     18\n",
              " EDUCATION         19\n",
              " COLLEGE           20\n",
              " PARENTS           21\n",
              " ARTS & CULTURE    22\n",
              " STYLE             23\n",
              " GREEN             24\n",
              " TASTE             25\n",
              " HEALTHY LIVING    26\n",
              " THE WORLDPOST     27\n",
              " GOOD NEWS         28\n",
              " WORLDPOST         29\n",
              " FIFTY             30\n",
              " ARTS              31\n",
              " WELLNESS          32\n",
              " PARENTING         33\n",
              " HOME & LIVING     34\n",
              " STYLE & BEAUTY    35\n",
              " DIVORCE           36\n",
              " WEDDINGS          37\n",
              " FOOD & DRINK      38\n",
              " MONEY             39\n",
              " ENVIRONMENT       40\n",
              " CULTURE & ARTS    41\n",
              " NaN               -2\n",
              " dtype: int64}"
            ]
          },
          "metadata": {
            "tags": []
          },
          "execution_count": 345
        }
      ]
    },
    {
      "cell_type": "code",
      "metadata": {
        "id": "2sW422P8rihb",
        "colab_type": "code",
        "colab": {}
      },
      "source": [
        "def predict_topic(model,sentence):\n",
        "  pred=model.predict(tfidf_topic.transform([sentence]))\n",
        "  pred=pred[0]\n",
        "  print(mapping_dict[pred])"
      ],
      "execution_count": 0,
      "outputs": []
    },
    {
      "cell_type": "code",
      "metadata": {
        "id": "RRoE-DtqrsIt",
        "colab_type": "code",
        "outputId": "058c7ae9-b7f3-4567-f8c0-a87de25e6580",
        "colab": {
          "base_uri": "https://localhost:8080/",
          "height": 36
        }
      },
      "source": [
        "predict_topic(LR_topic,\"The president of the US is going to India today\")"
      ],
      "execution_count": 0,
      "outputs": [
        {
          "output_type": "stream",
          "text": [
            "POLITICS\n"
          ],
          "name": "stdout"
        }
      ]
    },
    {
      "cell_type": "code",
      "metadata": {
        "id": "g1tTRbmYucbK",
        "colab_type": "code",
        "outputId": "aa2d782e-fc0a-4cdf-d6af-dc337816b66b",
        "colab": {
          "base_uri": "https://localhost:8080/",
          "height": 36
        }
      },
      "source": [
        "predict_topic(LR_topic,\"The science behind this exploration is not clear yet\")"
      ],
      "execution_count": 0,
      "outputs": [
        {
          "output_type": "stream",
          "text": [
            "SCIENCE\n"
          ],
          "name": "stdout"
        }
      ]
    },
    {
      "cell_type": "markdown",
      "metadata": {
        "id": "1AYPuAfrWqKw",
        "colab_type": "text"
      },
      "source": [
        "# Topic Modeling"
      ]
    },
    {
      "cell_type": "code",
      "metadata": {
        "id": "4FAdg3nsWveP",
        "colab_type": "code",
        "colab": {}
      },
      "source": [
        "from sklearn.feature_extraction.text import CountVectorizer\n",
        "count_vect = CountVectorizer()\n",
        "doc_term_matrix = count_vect.fit_transform(topic_df['text'])"
      ],
      "execution_count": 0,
      "outputs": []
    },
    {
      "cell_type": "code",
      "metadata": {
        "id": "1TebNLGyXZdA",
        "colab_type": "code",
        "outputId": "b5d2ef4f-49bf-4979-8bd7-12aed346ced1",
        "colab": {
          "base_uri": "https://localhost:8080/",
          "height": 147
        }
      },
      "source": [
        "from sklearn.decomposition import LatentDirichletAllocation\n",
        "LDA = LatentDirichletAllocation(n_components=5, random_state=42)\n",
        "LDA.fit(doc_term_matrix)"
      ],
      "execution_count": 0,
      "outputs": [
        {
          "output_type": "execute_result",
          "data": {
            "text/plain": [
              "LatentDirichletAllocation(batch_size=128, doc_topic_prior=None,\n",
              "                          evaluate_every=-1, learning_decay=0.7,\n",
              "                          learning_method='batch', learning_offset=10.0,\n",
              "                          max_doc_update_iter=100, max_iter=10,\n",
              "                          mean_change_tol=0.001, n_components=5, n_jobs=None,\n",
              "                          perp_tol=0.1, random_state=42, topic_word_prior=None,\n",
              "                          total_samples=1000000.0, verbose=0)"
            ]
          },
          "metadata": {
            "tags": []
          },
          "execution_count": 27
        }
      ]
    },
    {
      "cell_type": "markdown",
      "metadata": {
        "id": "AcGMYZT6b87Y",
        "colab_type": "text"
      },
      "source": [
        "##### printing the 10 words with highest probabilities for all the five topics"
      ]
    },
    {
      "cell_type": "code",
      "metadata": {
        "id": "HVzUq2pucWrW",
        "colab_type": "code",
        "outputId": "abb525fb-9cd8-4981-b545-1919938e83a2",
        "colab": {
          "base_uri": "https://localhost:8080/",
          "height": 389
        }
      },
      "source": [
        "for i,topic in enumerate(LDA.components_):\n",
        "  print(f'Top 10 words for topic #{i}:')\n",
        "  print([count_vect.get_feature_names()[i] for i in topic.argsort()[-10:]])\n",
        "  print('\\n')"
      ],
      "execution_count": 0,
      "outputs": [
        {
          "output_type": "stream",
          "text": [
            "Top 10 words for topic #0:\n",
            "['york', 'donald', 'state', 'city', 'year', 'said', 'week', 'president', 'new', 'trump']\n",
            "\n",
            "\n",
            "Top 10 words for topic #1:\n",
            "['style', 'police', 'say', 'want', 'huffpost', 'facebook', 'twitter', 'year', 'said', 'check']\n",
            "\n",
            "\n",
            "Top 10 words for topic #2:\n",
            "['year', 'student', 'school', 'company', 'woman', 'study', 'people', 'american', 'new', 'health']\n",
            "\n",
            "\n",
            "Top 10 words for topic #3:\n",
            "['child', 'make', 'way', 'thing', 'like', 'people', 'year', 'one', 'time', 'life']\n",
            "\n",
            "\n",
            "Top 10 words for topic #4:\n",
            "['see', 'time', 'food', 'make', 'know', 'get', 'look', 'one', 'day', 'like']\n",
            "\n",
            "\n"
          ],
          "name": "stdout"
        }
      ]
    },
    {
      "cell_type": "code",
      "metadata": {
        "id": "SAOHAcC4cTQT",
        "colab_type": "code",
        "outputId": "0b054106-3337-4132-8f45-31c3e2101c31",
        "colab": {
          "base_uri": "https://localhost:8080/",
          "height": 36
        }
      },
      "source": [
        "topic_values = LDA.transform(doc_term_matrix)\n",
        "topic_values.shape"
      ],
      "execution_count": 0,
      "outputs": [
        {
          "output_type": "execute_result",
          "data": {
            "text/plain": [
              "(200853, 5)"
            ]
          },
          "metadata": {
            "tags": []
          },
          "execution_count": 36
        }
      ]
    },
    {
      "cell_type": "code",
      "metadata": {
        "id": "yUzO89mxd3p4",
        "colab_type": "code",
        "colab": {}
      },
      "source": [
        "topic_df['Topic'] = topic_values.argmax(axis=1)"
      ],
      "execution_count": 0,
      "outputs": []
    },
    {
      "cell_type": "code",
      "metadata": {
        "id": "iA5FCkrcd9dP",
        "colab_type": "code",
        "outputId": "972c6178-7d42-4144-821a-a5dd4d9c3fdb",
        "colab": {
          "base_uri": "https://localhost:8080/",
          "height": 1000
        }
      },
      "source": [
        "topic_df.head(50)"
      ],
      "execution_count": 0,
      "outputs": [
        {
          "output_type": "execute_result",
          "data": {
            "text/html": [
              "<div>\n",
              "<style scoped>\n",
              "    .dataframe tbody tr th:only-of-type {\n",
              "        vertical-align: middle;\n",
              "    }\n",
              "\n",
              "    .dataframe tbody tr th {\n",
              "        vertical-align: top;\n",
              "    }\n",
              "\n",
              "    .dataframe thead th {\n",
              "        text-align: right;\n",
              "    }\n",
              "</style>\n",
              "<table border=\"1\" class=\"dataframe\">\n",
              "  <thead>\n",
              "    <tr style=\"text-align: right;\">\n",
              "      <th></th>\n",
              "      <th>text</th>\n",
              "      <th>target</th>\n",
              "      <th>Topic</th>\n",
              "    </tr>\n",
              "  </thead>\n",
              "  <tbody>\n",
              "    <tr>\n",
              "      <th>0</th>\n",
              "      <td>left husband killed child another day america</td>\n",
              "      <td>CRIME</td>\n",
              "      <td>3</td>\n",
              "    </tr>\n",
              "    <tr>\n",
              "      <th>1</th>\n",
              "      <td>course song</td>\n",
              "      <td>ENTERTAINMENT</td>\n",
              "      <td>4</td>\n",
              "    </tr>\n",
              "    <tr>\n",
              "      <th>2</th>\n",
              "      <td>actor longtime girlfriend anna eberstein tied ...</td>\n",
              "      <td>ENTERTAINMENT</td>\n",
              "      <td>0</td>\n",
              "    </tr>\n",
              "    <tr>\n",
              "      <th>3</th>\n",
              "      <td>actor give dems as kicking fighting hard enoug...</td>\n",
              "      <td>ENTERTAINMENT</td>\n",
              "      <td>0</td>\n",
              "    </tr>\n",
              "    <tr>\n",
              "      <th>4</th>\n",
              "      <td>dietland actress said using bag really cathart...</td>\n",
              "      <td>ENTERTAINMENT</td>\n",
              "      <td>4</td>\n",
              "    </tr>\n",
              "    <tr>\n",
              "      <th>5</th>\n",
              "      <td>right equate horrific incident sexual assault ...</td>\n",
              "      <td>ENTERTAINMENT</td>\n",
              "      <td>1</td>\n",
              "    </tr>\n",
              "    <tr>\n",
              "      <th>6</th>\n",
              "      <td>catchy right</td>\n",
              "      <td>ENTERTAINMENT</td>\n",
              "      <td>0</td>\n",
              "    </tr>\n",
              "    <tr>\n",
              "      <th>7</th>\n",
              "      <td>great mini series joining week</td>\n",
              "      <td>ENTERTAINMENT</td>\n",
              "      <td>0</td>\n",
              "    </tr>\n",
              "    <tr>\n",
              "      <th>8</th>\n",
              "      <td>myer kid may pushing new power film anyone</td>\n",
              "      <td>ENTERTAINMENT</td>\n",
              "      <td>3</td>\n",
              "    </tr>\n",
              "    <tr>\n",
              "      <th>9</th>\n",
              "      <td>getting recent academy award winning movie</td>\n",
              "      <td>ENTERTAINMENT</td>\n",
              "      <td>1</td>\n",
              "    </tr>\n",
              "    <tr>\n",
              "      <th>10</th>\n",
              "      <td>pop star also wore santa fe strong shirt show ...</td>\n",
              "      <td>ENTERTAINMENT</td>\n",
              "      <td>0</td>\n",
              "    </tr>\n",
              "    <tr>\n",
              "      <th>11</th>\n",
              "      <td>two met pave way summit north korean u</td>\n",
              "      <td>WORLD NEWS</td>\n",
              "      <td>0</td>\n",
              "    </tr>\n",
              "    <tr>\n",
              "      <th>12</th>\n",
              "      <td>revolution coming rural new brunswick</td>\n",
              "      <td>IMPACT</td>\n",
              "      <td>0</td>\n",
              "    </tr>\n",
              "    <tr>\n",
              "      <th>13</th>\n",
              "      <td>last month health human service official revea...</td>\n",
              "      <td>POLITICS</td>\n",
              "      <td>2</td>\n",
              "    </tr>\n",
              "    <tr>\n",
              "      <th>14</th>\n",
              "      <td>wiretap feature conversation alexander torshin...</td>\n",
              "      <td>POLITICS</td>\n",
              "      <td>4</td>\n",
              "    </tr>\n",
              "    <tr>\n",
              "      <th>15</th>\n",
              "      <td>count robert mueller nail nsa whistleblower warns</td>\n",
              "      <td>POLITICS</td>\n",
              "      <td>0</td>\n",
              "    </tr>\n",
              "    <tr>\n",
              "      <th>16</th>\n",
              "      <td>peeping minute</td>\n",
              "      <td>POLITICS</td>\n",
              "      <td>0</td>\n",
              "    </tr>\n",
              "    <tr>\n",
              "      <th>17</th>\n",
              "      <td>irish woman longer travel united kingdom end p...</td>\n",
              "      <td>POLITICS</td>\n",
              "      <td>2</td>\n",
              "    </tr>\n",
              "    <tr>\n",
              "      <th>18</th>\n",
              "      <td>interior secretary attempt damage control hunt...</td>\n",
              "      <td>POLITICS</td>\n",
              "      <td>2</td>\n",
              "    </tr>\n",
              "    <tr>\n",
              "      <th>19</th>\n",
              "      <td>four time many male female executive</td>\n",
              "      <td>POLITICS</td>\n",
              "      <td>2</td>\n",
              "    </tr>\n",
              "    <tr>\n",
              "      <th>20</th>\n",
              "      <td>buy boring tie give testicle plush toy</td>\n",
              "      <td>WEIRD NEWS</td>\n",
              "      <td>4</td>\n",
              "    </tr>\n",
              "    <tr>\n",
              "      <th>21</th>\n",
              "      <td>thing much star war</td>\n",
              "      <td>ENTERTAINMENT</td>\n",
              "      <td>3</td>\n",
              "    </tr>\n",
              "    <tr>\n",
              "      <th>22</th>\n",
              "      <td>idea get dna report back</td>\n",
              "      <td>WEIRD NEWS</td>\n",
              "      <td>2</td>\n",
              "    </tr>\n",
              "    <tr>\n",
              "      <th>23</th>\n",
              "      <td>trump announcement came repeated threat north ...</td>\n",
              "      <td>WORLD NEWS</td>\n",
              "      <td>0</td>\n",
              "    </tr>\n",
              "    <tr>\n",
              "      <th>24</th>\n",
              "      <td>fifteen people taken hospital three critical i...</td>\n",
              "      <td>WORLD NEWS</td>\n",
              "      <td>2</td>\n",
              "    </tr>\n",
              "    <tr>\n",
              "      <th>25</th>\n",
              "      <td>try read hometovote tweet without cry</td>\n",
              "      <td>WORLD NEWS</td>\n",
              "      <td>3</td>\n",
              "    </tr>\n",
              "    <tr>\n",
              "      <th>26</th>\n",
              "      <td>vote counting begin saturday</td>\n",
              "      <td>WORLD NEWS</td>\n",
              "      <td>0</td>\n",
              "    </tr>\n",
              "    <tr>\n",
              "      <th>27</th>\n",
              "      <td>forbidding player take knee national anthem id...</td>\n",
              "      <td>BLACK VOICES</td>\n",
              "      <td>0</td>\n",
              "    </tr>\n",
              "    <tr>\n",
              "      <th>28</th>\n",
              "      <td>mia amor mottley even earned backing country r...</td>\n",
              "      <td>BLACK VOICES</td>\n",
              "      <td>1</td>\n",
              "    </tr>\n",
              "    <tr>\n",
              "      <th>29</th>\n",
              "      <td>american deserve another statistic</td>\n",
              "      <td>BLACK VOICES</td>\n",
              "      <td>2</td>\n",
              "    </tr>\n",
              "    <tr>\n",
              "      <th>30</th>\n",
              "      <td>new law fight sex trafficking target people os...</td>\n",
              "      <td>POLITICS</td>\n",
              "      <td>2</td>\n",
              "    </tr>\n",
              "    <tr>\n",
              "      <th>31</th>\n",
              "      <td>lee brought original show black entertainment ...</td>\n",
              "      <td>BLACK VOICES</td>\n",
              "      <td>0</td>\n",
              "    </tr>\n",
              "    <tr>\n",
              "      <th>32</th>\n",
              "      <td>state prosecutor say almost deposited bank acc...</td>\n",
              "      <td>CRIME</td>\n",
              "      <td>2</td>\n",
              "    </tr>\n",
              "    <tr>\n",
              "      <th>33</th>\n",
              "      <td>curry others christian mean rejecting white na...</td>\n",
              "      <td>POLITICS</td>\n",
              "      <td>1</td>\n",
              "    </tr>\n",
              "    <tr>\n",
              "      <th>34</th>\n",
              "      <td>pusha album produced west feature photo late s...</td>\n",
              "      <td>ENTERTAINMENT</td>\n",
              "      <td>0</td>\n",
              "    </tr>\n",
              "    <tr>\n",
              "      <th>35</th>\n",
              "      <td>visa vancouver public transit system suspended...</td>\n",
              "      <td>WOMEN</td>\n",
              "      <td>2</td>\n",
              "    </tr>\n",
              "    <tr>\n",
              "      <th>36</th>\n",
              "      <td>chinese exclusion act barely get mentioned u h...</td>\n",
              "      <td>POLITICS</td>\n",
              "      <td>2</td>\n",
              "    </tr>\n",
              "    <tr>\n",
              "      <th>37</th>\n",
              "      <td>swimsuit make look racist</td>\n",
              "      <td>COMEDY</td>\n",
              "      <td>4</td>\n",
              "    </tr>\n",
              "    <tr>\n",
              "      <th>38</th>\n",
              "      <td>go one token appreciation</td>\n",
              "      <td>COMEDY</td>\n",
              "      <td>3</td>\n",
              "    </tr>\n",
              "    <tr>\n",
              "      <th>39</th>\n",
              "      <td>late show host take michael cohen taxi king bu...</td>\n",
              "      <td>COMEDY</td>\n",
              "      <td>0</td>\n",
              "    </tr>\n",
              "    <tr>\n",
              "      <th>40</th>\n",
              "      <td>thought going die one student said</td>\n",
              "      <td>CRIME</td>\n",
              "      <td>3</td>\n",
              "    </tr>\n",
              "    <tr>\n",
              "      <th>41</th>\n",
              "      <td>host reimagined cartoon ayatollah ali khamenei...</td>\n",
              "      <td>COMEDY</td>\n",
              "      <td>1</td>\n",
              "    </tr>\n",
              "    <tr>\n",
              "      <th>42</th>\n",
              "      <td>male student believed suspect detained accordi...</td>\n",
              "      <td>CRIME</td>\n",
              "      <td>1</td>\n",
              "    </tr>\n",
              "    <tr>\n",
              "      <th>43</th>\n",
              "      <td>suleiman abdulfatai look like could actor long...</td>\n",
              "      <td>ENTERTAINMENT</td>\n",
              "      <td>1</td>\n",
              "    </tr>\n",
              "    <tr>\n",
              "      <th>44</th>\n",
              "      <td>comedian suggested jessica walter also abusive...</td>\n",
              "      <td>ENTERTAINMENT</td>\n",
              "      <td>1</td>\n",
              "    </tr>\n",
              "    <tr>\n",
              "      <th>45</th>\n",
              "      <td>happytime murder refers classic show tagline</td>\n",
              "      <td>ENTERTAINMENT</td>\n",
              "      <td>4</td>\n",
              "    </tr>\n",
              "    <tr>\n",
              "      <th>46</th>\n",
              "      <td>director joe anthony russo answer pressing que...</td>\n",
              "      <td>ENTERTAINMENT</td>\n",
              "      <td>0</td>\n",
              "    </tr>\n",
              "    <tr>\n",
              "      <th>47</th>\n",
              "      <td>star trek actor accused groping model year ago</td>\n",
              "      <td>ENTERTAINMENT</td>\n",
              "      <td>1</td>\n",
              "    </tr>\n",
              "    <tr>\n",
              "      <th>48</th>\n",
              "      <td>dad even sent kevlar vest</td>\n",
              "      <td>ENTERTAINMENT</td>\n",
              "      <td>4</td>\n",
              "    </tr>\n",
              "    <tr>\n",
              "      <th>49</th>\n",
              "      <td>snl star reacted criticism date ariana grande ...</td>\n",
              "      <td>ENTERTAINMENT</td>\n",
              "      <td>0</td>\n",
              "    </tr>\n",
              "  </tbody>\n",
              "</table>\n",
              "</div>"
            ],
            "text/plain": [
              "                                                 text         target  Topic\n",
              "0       left husband killed child another day america          CRIME      3\n",
              "1                                         course song  ENTERTAINMENT      4\n",
              "2   actor longtime girlfriend anna eberstein tied ...  ENTERTAINMENT      0\n",
              "3   actor give dems as kicking fighting hard enoug...  ENTERTAINMENT      0\n",
              "4   dietland actress said using bag really cathart...  ENTERTAINMENT      4\n",
              "5   right equate horrific incident sexual assault ...  ENTERTAINMENT      1\n",
              "6                                        catchy right  ENTERTAINMENT      0\n",
              "7                      great mini series joining week  ENTERTAINMENT      0\n",
              "8          myer kid may pushing new power film anyone  ENTERTAINMENT      3\n",
              "9          getting recent academy award winning movie  ENTERTAINMENT      1\n",
              "10  pop star also wore santa fe strong shirt show ...  ENTERTAINMENT      0\n",
              "11             two met pave way summit north korean u     WORLD NEWS      0\n",
              "12              revolution coming rural new brunswick         IMPACT      0\n",
              "13  last month health human service official revea...       POLITICS      2\n",
              "14  wiretap feature conversation alexander torshin...       POLITICS      4\n",
              "15  count robert mueller nail nsa whistleblower warns       POLITICS      0\n",
              "16                                     peeping minute       POLITICS      0\n",
              "17  irish woman longer travel united kingdom end p...       POLITICS      2\n",
              "18  interior secretary attempt damage control hunt...       POLITICS      2\n",
              "19               four time many male female executive       POLITICS      2\n",
              "20             buy boring tie give testicle plush toy     WEIRD NEWS      4\n",
              "21                                thing much star war  ENTERTAINMENT      3\n",
              "22                           idea get dna report back     WEIRD NEWS      2\n",
              "23  trump announcement came repeated threat north ...     WORLD NEWS      0\n",
              "24  fifteen people taken hospital three critical i...     WORLD NEWS      2\n",
              "25              try read hometovote tweet without cry     WORLD NEWS      3\n",
              "26                       vote counting begin saturday     WORLD NEWS      0\n",
              "27  forbidding player take knee national anthem id...   BLACK VOICES      0\n",
              "28  mia amor mottley even earned backing country r...   BLACK VOICES      1\n",
              "29                 american deserve another statistic   BLACK VOICES      2\n",
              "30  new law fight sex trafficking target people os...       POLITICS      2\n",
              "31  lee brought original show black entertainment ...   BLACK VOICES      0\n",
              "32  state prosecutor say almost deposited bank acc...          CRIME      2\n",
              "33  curry others christian mean rejecting white na...       POLITICS      1\n",
              "34  pusha album produced west feature photo late s...  ENTERTAINMENT      0\n",
              "35  visa vancouver public transit system suspended...          WOMEN      2\n",
              "36  chinese exclusion act barely get mentioned u h...       POLITICS      2\n",
              "37                          swimsuit make look racist         COMEDY      4\n",
              "38                          go one token appreciation         COMEDY      3\n",
              "39  late show host take michael cohen taxi king bu...         COMEDY      0\n",
              "40                 thought going die one student said          CRIME      3\n",
              "41  host reimagined cartoon ayatollah ali khamenei...         COMEDY      1\n",
              "42  male student believed suspect detained accordi...          CRIME      1\n",
              "43  suleiman abdulfatai look like could actor long...  ENTERTAINMENT      1\n",
              "44  comedian suggested jessica walter also abusive...  ENTERTAINMENT      1\n",
              "45       happytime murder refers classic show tagline  ENTERTAINMENT      4\n",
              "46  director joe anthony russo answer pressing que...  ENTERTAINMENT      0\n",
              "47     star trek actor accused groping model year ago  ENTERTAINMENT      1\n",
              "48                          dad even sent kevlar vest  ENTERTAINMENT      4\n",
              "49  snl star reacted criticism date ariana grande ...  ENTERTAINMENT      0"
            ]
          },
          "metadata": {
            "tags": []
          },
          "execution_count": 38
        }
      ]
    },
    {
      "cell_type": "markdown",
      "metadata": {
        "id": "RjSWDiybesQL",
        "colab_type": "text"
      },
      "source": [
        "# Text Summarization "
      ]
    },
    {
      "cell_type": "code",
      "metadata": {
        "id": "TWK-g491hJMY",
        "colab_type": "code",
        "outputId": "eea8d915-d312-4b1d-b365-eec900822bc5",
        "colab": {
          "base_uri": "https://localhost:8080/",
          "height": 1000
        }
      },
      "source": [
        "import numpy as np\n",
        "import re\n",
        "import math\n",
        "import operator\n",
        "import nltk\n",
        "import string\n",
        "nltk.download('stopwords')\n",
        "nltk.download('punkt')\n",
        "stopword_list = nltk.corpus.stopwords.words('english')\n",
        "DOCUMENT = train.text[1]\n",
        "# normalize the document\n",
        "def parse_document(document):\n",
        "  document = document.strip()\n",
        "  sentences = nltk.sent_tokenize(document)\n",
        "  sentences = [sentence.strip() for sentence in sentences]\n",
        "  return sentences\n",
        "def tokenize_text(text):\n",
        "  tokens = nltk.word_tokenize(text)\n",
        "  tokens = [token.strip() for token in tokens]\n",
        "  return tokens\n",
        "def remove_special_characters(text):\n",
        "  tokens = tokenize_text(text)\n",
        "  pattern = re.compile('[{}]'.format(re.escape(string.punctuation)))\n",
        "  filtered_tokens = filter(None, [pattern.sub('', token) for token in tokens])\n",
        "  filtered_text = ' '.join(filtered_tokens)\n",
        "  return filtered_text\n",
        "def remove_stopwords(text):\n",
        "  tokens = tokenize_text(text)\n",
        "  filtered_tokens = [token for token in tokens if token not in stopword_list]\n",
        "  filtered_text = ' '.join(filtered_tokens)\n",
        "  return filtered_text\n",
        "def normalize_corpus(corpus, tokenize=False):\n",
        "  normalized_corpus = []\n",
        "  for text in corpus:\n",
        "    text = remove_special_characters(text)\n",
        "    text = remove_stopwords(text)\n",
        "    normalized_corpus.append(text)\n",
        "  if tokenize:\n",
        "    text = tokenize_text(text)\n",
        "    normalized_corpus.append(text)\n",
        "  return normalized_corpus\n",
        "\n",
        "\n",
        "sentences = parse_document(DOCUMENT)\n",
        "norm_sentences = normalize_corpus(sentences,tokenize=False)\n",
        "print (\"Total Sentences:\", len(norm_sentences))\n",
        "# define number of sentences in final summary\n",
        "num_sentences = 2\n",
        "from sklearn.feature_extraction.text import CountVectorizer, TfidfVectorizer\n",
        "def build_feature_matrix(documents, feature_type='frequency'):\n",
        "  feature_type = feature_type.lower().strip()\n",
        "  if feature_type == 'frequency':\n",
        "    vectorizer = CountVectorizer()\n",
        "  elif feature_type == 'tfidf':\n",
        "    vectorizer = TfidfVectorizer()\n",
        "  else:\n",
        "    raise Exception(\"Wrong feature type entered. Possible values: 'frequency', 'tfidf'\")\n",
        "  feature_matrix = vectorizer.fit_transform(documents).astype(float)\n",
        "  return vectorizer, feature_matrix\n",
        "# construct weighted document term matrix\n",
        "vec, dt_matrix = build_feature_matrix(norm_sentences,feature_type='tfidf')\n",
        "# construct the document similarity matrix\n",
        "similarity_matrix = (dt_matrix * dt_matrix.T)\n",
        "# view the document similarity matrix\n",
        "print (np.round(similarity_matrix.todense(), 2))\n",
        "from networkx import *\n",
        "# build the similarity graph\n",
        "similarity_graph = networkx.from_scipy_sparse_matrix(similarity_matrix)\n",
        "# view the similarity graph\n",
        "networkx.draw_networkx(similarity_graph)\n",
        "# compute pagerank scores for all the sentences\n",
        "scores = networkx.pagerank(similarity_graph)\n",
        "# rank sentences based on their scores\n",
        "ranked_sentences = sorted(((score, index) for index, score in scores.items()), reverse=True)\n",
        "# view the ranked sentences\n",
        "ranked_sentences\n",
        "# get the top sentence indices for our summary\n",
        "top_sentence_indices = [ranked_sentences[index][1] for index in range(num_sentences)]\n",
        "top_sentence_indices.sort()\n",
        "# view the top sentence indices\n",
        "print (top_sentence_indices)\n",
        "# construct the document summary\n",
        "for index in top_sentence_indices:\n",
        "  print (sentences[index])\n",
        "def textrank_text_summarizer(documents, num_sentences=3,feature_type='frequency'):\n",
        "  vec, dt_matrix = build_feature_matrix(norm_sentences, feature_type='tfidf')\n",
        "  similarity_matrix = (dt_matrix * dt_matrix.T)\n",
        "  similarity_graph = networkx.from_scipy_sparse_matrix(similarity_matrix)\n",
        "  scores = networkx.pagerank(similarity_graph)\n",
        "  ranked_sentences = sorted(((score, index)for index, score in scores.items()),reverse=True)\n",
        "  top_sentence_indices = [ranked_sentences[index][1] for index in range(num_sentences)] \n",
        "  top_sentence_indices.sort()\n",
        "  for index in top_sentence_indices:\n",
        "    print (sentences[index])\n",
        "\n",
        "\n",
        "print(\"summary:\")\n",
        "textrank_text_summarizer(norm_sentences, num_sentences=3, feature_type='tfidf')"
      ],
      "execution_count": 0,
      "outputs": [
        {
          "output_type": "stream",
          "text": [
            "[nltk_data] Downloading package stopwords to /root/nltk_data...\n",
            "[nltk_data]   Package stopwords is already up-to-date!\n",
            "[nltk_data] Downloading package punkt to /root/nltk_data...\n",
            "[nltk_data]   Package punkt is already up-to-date!\n",
            "Total Sentences: 17\n",
            "[[1.   0.   0.12 0.   0.   0.   0.   0.   0.   0.   0.   0.   0.   0.\n",
            "  0.   0.12 0.1 ]\n",
            " [0.   1.   0.   0.   0.08 0.   0.15 0.   0.   0.   0.   0.   0.   0.\n",
            "  0.   0.   0.27]\n",
            " [0.12 0.   1.   0.   0.   0.   0.   0.   0.   0.   0.   0.   0.   0.09\n",
            "  0.   0.1  0.  ]\n",
            " [0.   0.   0.   1.   0.06 0.   0.   0.   0.   0.   0.   0.   0.08 0.\n",
            "  0.   0.   0.  ]\n",
            " [0.   0.08 0.   0.06 1.   0.05 0.05 0.   0.   0.   0.   0.   0.   0.\n",
            "  0.   0.   0.  ]\n",
            " [0.   0.   0.   0.   0.05 1.   0.22 0.   0.22 0.07 0.19 0.   0.   0.\n",
            "  0.08 0.   0.  ]\n",
            " [0.   0.15 0.   0.   0.05 0.22 1.   0.   0.   0.   0.   0.   0.   0.\n",
            "  0.   0.   0.  ]\n",
            " [0.   0.   0.   0.   0.   0.   0.   1.   0.   0.09 0.08 0.   0.   0.11\n",
            "  0.   0.   0.  ]\n",
            " [0.   0.   0.   0.   0.   0.22 0.   0.   1.   0.08 0.   0.   0.   0.\n",
            "  0.08 0.   0.  ]\n",
            " [0.   0.   0.   0.   0.   0.07 0.   0.09 0.08 1.   0.24 0.   0.11 0.14\n",
            "  0.13 0.   0.09]\n",
            " [0.   0.   0.   0.   0.   0.19 0.   0.08 0.   0.24 1.   0.   0.1  0.12\n",
            "  0.06 0.   0.  ]\n",
            " [0.   0.   0.   0.   0.   0.   0.   0.   0.   0.   0.   1.   0.   0.\n",
            "  0.   0.   0.  ]\n",
            " [0.   0.   0.   0.08 0.   0.   0.   0.   0.   0.11 0.1  0.   1.   0.06\n",
            "  0.06 0.   0.  ]\n",
            " [0.   0.   0.09 0.   0.   0.   0.   0.11 0.   0.14 0.12 0.   0.06 1.\n",
            "  0.   0.11 0.  ]\n",
            " [0.   0.   0.   0.   0.   0.08 0.   0.   0.08 0.13 0.06 0.   0.06 0.\n",
            "  1.   0.   0.  ]\n",
            " [0.12 0.   0.1  0.   0.   0.   0.   0.   0.   0.   0.   0.   0.   0.11\n",
            "  0.   1.   0.22]\n",
            " [0.1  0.27 0.   0.   0.   0.   0.   0.   0.   0.09 0.   0.   0.   0.\n",
            "  0.   0.22 1.  ]]\n",
            "[5, 9]\n",
            "We were seated at 5:52 and the waiter came and got our drink orders.\n",
            "We shared the baked spaghetti calzone and the small \"Here's The Beef\" pizza so we can both try them.\n",
            "summary:\n",
            "We were seated at 5:52 and the waiter came and got our drink orders.\n",
            "We shared the baked spaghetti calzone and the small \"Here's The Beef\" pizza so we can both try them.\n",
            "The calzone was huge and we got the smallest one (personal) and got the small 11\" pizza.\n"
          ],
          "name": "stdout"
        },
        {
          "output_type": "display_data",
          "data": {
            "image/png": "[encoded data removed]",
            "text/plain": [
              "<Figure size 432x288 with 1 Axes>"
            ]
          },
          "metadata": {
            "tags": []
          }
        }
      ]
    },
    {
      "cell_type": "code",
      "metadata": {
        "id": "WHtsLMNtlRYY",
        "colab_type": "code",
        "outputId": "cf0b2dd6-81ee-417d-eb37-e619b195acac",
        "colab": {
          "base_uri": "https://localhost:8080/",
          "height": 56
        }
      },
      "source": [
        "train.text[1]"
      ],
      "execution_count": 0,
      "outputs": [
        {
          "output_type": "execute_result",
          "data": {
            "text/plain": [
              "'I have no idea why some people give bad reviews about this place. It goes to show you, you can please everyone. They are probably griping about something that their own fault...there are many people like that.\\n\\nIn any case, my friend and I arrived at about 5:50 PM this past Sunday. It was pretty crowded, more than I thought for a Sunday evening and thought we would have to wait forever to get a seat but they said we\\'ll be seated when the girl comes back from seating someone else. We were seated at 5:52 and the waiter came and got our drink orders. Everyone was very pleasant from the host that seated us to the waiter to the server. The prices were very good as well. We placed our orders once we decided what we wanted at 6:02. We shared the baked spaghetti calzone and the small \"Here\\'s The Beef\" pizza so we can both try them. The calzone was huge and we got the smallest one (personal) and got the small 11\" pizza. Both were awesome! My friend liked the pizza better and I liked the calzone better. The calzone does have a sweetish sauce but that\\'s how I like my sauce!\\n\\nWe had to box part of the pizza to take it home and we were out the door by 6:42. So, everything was great and not like these bad reviewers. That goes to show you that  you have to try these things yourself because all these bad reviewers have some serious issues.'"
            ]
          },
          "metadata": {
            "tags": []
          },
          "execution_count": 53
        }
      ]
    }
  ]
}